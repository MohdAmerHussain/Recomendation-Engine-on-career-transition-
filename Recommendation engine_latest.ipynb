{
 "cells": [
  {
   "cell_type": "markdown",
   "id": "a3948df9",
   "metadata": {},
   "source": [
    "# ------------------------------------Recommender System--------------------------------------\n"
   ]
  },
  {
   "cell_type": "markdown",
   "id": "6dbef6fc",
   "metadata": {},
   "source": [
    "# #############################################################"
   ]
  },
  {
   "cell_type": "markdown",
   "id": "d8428845",
   "metadata": {},
   "source": [
    "# Import Libraries"
   ]
  },
  {
   "cell_type": "code",
   "execution_count": 1,
   "id": "661bf6c8",
   "metadata": {},
   "outputs": [],
   "source": [
    "import numpy as np\n",
    "import pandas as pd"
   ]
  },
  {
   "cell_type": "code",
   "execution_count": 2,
   "id": "bec6a076",
   "metadata": {},
   "outputs": [],
   "source": [
    "df1 = pd.read_excel(r'F:\\Project\\final_final\\Final data.xlsx')"
   ]
  },
  {
   "cell_type": "code",
   "execution_count": 3,
   "id": "2b20d5be",
   "metadata": {},
   "outputs": [],
   "source": [
    "df=df1"
   ]
  },
  {
   "cell_type": "code",
   "execution_count": 4,
   "id": "348f4608",
   "metadata": {},
   "outputs": [
    {
     "data": {
      "text/html": [
       "<div>\n",
       "<style scoped>\n",
       "    .dataframe tbody tr th:only-of-type {\n",
       "        vertical-align: middle;\n",
       "    }\n",
       "\n",
       "    .dataframe tbody tr th {\n",
       "        vertical-align: top;\n",
       "    }\n",
       "\n",
       "    .dataframe thead th {\n",
       "        text-align: right;\n",
       "    }\n",
       "</style>\n",
       "<table border=\"1\" class=\"dataframe\">\n",
       "  <thead>\n",
       "    <tr style=\"text-align: right;\">\n",
       "      <th></th>\n",
       "      <th>What is your name?</th>\n",
       "      <th>What is your gender?</th>\n",
       "      <th>What was your course in UG?</th>\n",
       "      <th>What is your UG specialization? Major Subject (Eg; Mathematics)</th>\n",
       "      <th>What are your interests?</th>\n",
       "      <th>What are your skills ? (Select multiple if necessary)</th>\n",
       "      <th>What was the average CGPA or Percentage obtained in under graduation?</th>\n",
       "      <th>Did you do any certification courses additionally?</th>\n",
       "      <th>If yes, please specify your certificate course title.</th>\n",
       "      <th>Are you working?</th>\n",
       "      <th>If yes, then what is/was your first Job title in your current field of work? If not applicable, write NA.</th>\n",
       "      <th>Have you done masters after undergraduation? If yes, mention your field of masters.(Eg; Masters in Mathematics)</th>\n",
       "    </tr>\n",
       "  </thead>\n",
       "  <tbody>\n",
       "    <tr>\n",
       "      <th>0</th>\n",
       "      <td>A.Uha Priya</td>\n",
       "      <td>Female</td>\n",
       "      <td>B.Sc</td>\n",
       "      <td>Computer Applications</td>\n",
       "      <td>Cloud computing</td>\n",
       "      <td>Python;SQL;Java</td>\n",
       "      <td>85</td>\n",
       "      <td>Yes</td>\n",
       "      <td>Linux,Git</td>\n",
       "      <td>Yes</td>\n",
       "      <td>Software</td>\n",
       "      <td>MCA</td>\n",
       "    </tr>\n",
       "    <tr>\n",
       "      <th>1</th>\n",
       "      <td>Aadil</td>\n",
       "      <td>Male</td>\n",
       "      <td>B.E</td>\n",
       "      <td>Computer Science Engineering</td>\n",
       "      <td>Technology</td>\n",
       "      <td>Critical Thinking, Analytic Thinking, SQL, Pro...</td>\n",
       "      <td>66.5</td>\n",
       "      <td>Yes</td>\n",
       "      <td>Microsoft certification</td>\n",
       "      <td>Yes</td>\n",
       "      <td>Computer Software Engineer</td>\n",
       "      <td>NaN</td>\n",
       "    </tr>\n",
       "    <tr>\n",
       "      <th>2</th>\n",
       "      <td>Aakriti</td>\n",
       "      <td>Female</td>\n",
       "      <td>BA</td>\n",
       "      <td>Psychology</td>\n",
       "      <td>Understand human behaviour</td>\n",
       "      <td>People management;Communication skills</td>\n",
       "      <td>64.6</td>\n",
       "      <td>Yes</td>\n",
       "      <td>Resilience psychology</td>\n",
       "      <td>No</td>\n",
       "      <td>NaN</td>\n",
       "      <td>NaN</td>\n",
       "    </tr>\n",
       "    <tr>\n",
       "      <th>3</th>\n",
       "      <td>Aanchal sharma</td>\n",
       "      <td>Female</td>\n",
       "      <td>MBA</td>\n",
       "      <td>Commerce</td>\n",
       "      <td>Sales/Marketing;Trading;Understand human behav...</td>\n",
       "      <td>Accounting Skills;Critical Thinking</td>\n",
       "      <td>75.525</td>\n",
       "      <td>No</td>\n",
       "      <td>No</td>\n",
       "      <td>Yes</td>\n",
       "      <td>Relationships manager</td>\n",
       "      <td>NaN</td>\n",
       "    </tr>\n",
       "    <tr>\n",
       "      <th>4</th>\n",
       "      <td>Aangkeeta Sarkar</td>\n",
       "      <td>Female</td>\n",
       "      <td>B.Tech</td>\n",
       "      <td>Instrumentation Engineering</td>\n",
       "      <td>Technology</td>\n",
       "      <td>\\nPLC Allen Bradley;PLC Ladder Logic;LabVIEW;B...</td>\n",
       "      <td>70.68</td>\n",
       "      <td>Yes</td>\n",
       "      <td>Extreme Productivity (Blinkist Summary)</td>\n",
       "      <td>Yes</td>\n",
       "      <td>Plant Instrumentation Engineer</td>\n",
       "      <td>NaN</td>\n",
       "    </tr>\n",
       "  </tbody>\n",
       "</table>\n",
       "</div>"
      ],
      "text/plain": [
       "  What is your name? What is your gender? What was your course in UG?  \\\n",
       "0        A.Uha Priya               Female                        B.Sc   \n",
       "1              Aadil                 Male                         B.E   \n",
       "2            Aakriti               Female                          BA   \n",
       "3     Aanchal sharma               Female                         MBA   \n",
       "4   Aangkeeta Sarkar               Female                      B.Tech   \n",
       "\n",
       "  What is your UG specialization? Major Subject (Eg; Mathematics)  \\\n",
       "0                              Computer Applications                \n",
       "1                       Computer Science Engineering                \n",
       "2                                         Psychology                \n",
       "3                                           Commerce                \n",
       "4                        Instrumentation Engineering                \n",
       "\n",
       "                            What are your interests?  \\\n",
       "0                                    Cloud computing   \n",
       "1                                         Technology   \n",
       "2                         Understand human behaviour   \n",
       "3  Sales/Marketing;Trading;Understand human behav...   \n",
       "4                                         Technology   \n",
       "\n",
       "  What are your skills ? (Select multiple if necessary)  \\\n",
       "0                                    Python;SQL;Java      \n",
       "1  Critical Thinking, Analytic Thinking, SQL, Pro...      \n",
       "2             People management;Communication skills      \n",
       "3                Accounting Skills;Critical Thinking      \n",
       "4  \\nPLC Allen Bradley;PLC Ladder Logic;LabVIEW;B...      \n",
       "\n",
       "  What was the average CGPA or Percentage obtained in under graduation?  \\\n",
       "0                                                 85                      \n",
       "1                                               66.5                      \n",
       "2                                               64.6                      \n",
       "3                                             75.525                      \n",
       "4                                              70.68                      \n",
       "\n",
       "  Did you do any certification courses additionally?  \\\n",
       "0                                                Yes   \n",
       "1                                                Yes   \n",
       "2                                                Yes   \n",
       "3                                                 No   \n",
       "4                                                Yes   \n",
       "\n",
       "  If yes, please specify your certificate course title. Are you working?  \\\n",
       "0                                          Linux,Git                 Yes   \n",
       "1                           Microsoft certification                  Yes   \n",
       "2                              Resilience psychology                  No   \n",
       "3                                                 No                 Yes   \n",
       "4            Extreme Productivity (Blinkist Summary)                 Yes   \n",
       "\n",
       "  If yes, then what is/was your first Job title in your current field of work? If not applicable, write NA.                 \\\n",
       "0                                           Software                                                                         \n",
       "1                         Computer Software Engineer                                                                         \n",
       "2                                                NaN                                                                         \n",
       "3                              Relationships manager                                                                         \n",
       "4                     Plant Instrumentation Engineer                                                                         \n",
       "\n",
       "  Have you done masters after undergraduation? If yes, mention your field of masters.(Eg; Masters in Mathematics)  \n",
       "0                                                MCA                                                               \n",
       "1                                                NaN                                                               \n",
       "2                                                NaN                                                               \n",
       "3                                                NaN                                                               \n",
       "4                                                NaN                                                               "
      ]
     },
     "execution_count": 4,
     "metadata": {},
     "output_type": "execute_result"
    }
   ],
   "source": [
    "df.head()"
   ]
  },
  {
   "cell_type": "code",
   "execution_count": 5,
   "id": "209ef0a2",
   "metadata": {},
   "outputs": [
    {
     "data": {
      "text/plain": [
       "Index(['What is your name?', 'What is your gender?',\n",
       "       'What was your course in UG?',\n",
       "       'What is your UG specialization? Major Subject (Eg; Mathematics)',\n",
       "       'What are your interests?',\n",
       "       'What are your skills ? (Select multiple if necessary)',\n",
       "       'What was the average CGPA or Percentage obtained in under graduation?',\n",
       "       'Did you do any certification courses additionally?',\n",
       "       'If yes, please specify your certificate course title.',\n",
       "       'Are you working?',\n",
       "       'If yes, then what is/was your first Job title in your current field of work? If not applicable, write NA.               ',\n",
       "       'Have you done masters after undergraduation? If yes, mention your field of masters.(Eg; Masters in Mathematics)'],\n",
       "      dtype='object')"
      ]
     },
     "execution_count": 5,
     "metadata": {},
     "output_type": "execute_result"
    }
   ],
   "source": [
    "df.columns"
   ]
  },
  {
   "cell_type": "code",
   "execution_count": 6,
   "id": "40dcbef5",
   "metadata": {},
   "outputs": [],
   "source": [
    "df.columns=['nm','gr','ug','ugsp','irt','ski','cgp','cert','certc','wrk','job','mas']"
   ]
  },
  {
   "cell_type": "code",
   "execution_count": 7,
   "id": "397f029b",
   "metadata": {},
   "outputs": [
    {
     "data": {
      "text/html": [
       "<div>\n",
       "<style scoped>\n",
       "    .dataframe tbody tr th:only-of-type {\n",
       "        vertical-align: middle;\n",
       "    }\n",
       "\n",
       "    .dataframe tbody tr th {\n",
       "        vertical-align: top;\n",
       "    }\n",
       "\n",
       "    .dataframe thead th {\n",
       "        text-align: right;\n",
       "    }\n",
       "</style>\n",
       "<table border=\"1\" class=\"dataframe\">\n",
       "  <thead>\n",
       "    <tr style=\"text-align: right;\">\n",
       "      <th></th>\n",
       "      <th>nm</th>\n",
       "      <th>gr</th>\n",
       "      <th>ug</th>\n",
       "      <th>ugsp</th>\n",
       "      <th>irt</th>\n",
       "      <th>ski</th>\n",
       "      <th>cgp</th>\n",
       "      <th>cert</th>\n",
       "      <th>certc</th>\n",
       "      <th>wrk</th>\n",
       "      <th>job</th>\n",
       "      <th>mas</th>\n",
       "    </tr>\n",
       "  </thead>\n",
       "  <tbody>\n",
       "    <tr>\n",
       "      <th>0</th>\n",
       "      <td>A.Uha Priya</td>\n",
       "      <td>Female</td>\n",
       "      <td>B.Sc</td>\n",
       "      <td>Computer Applications</td>\n",
       "      <td>Cloud computing</td>\n",
       "      <td>Python;SQL;Java</td>\n",
       "      <td>85</td>\n",
       "      <td>Yes</td>\n",
       "      <td>Linux,Git</td>\n",
       "      <td>Yes</td>\n",
       "      <td>Software</td>\n",
       "      <td>MCA</td>\n",
       "    </tr>\n",
       "    <tr>\n",
       "      <th>1</th>\n",
       "      <td>Aadil</td>\n",
       "      <td>Male</td>\n",
       "      <td>B.E</td>\n",
       "      <td>Computer Science Engineering</td>\n",
       "      <td>Technology</td>\n",
       "      <td>Critical Thinking, Analytic Thinking, SQL, Pro...</td>\n",
       "      <td>66.5</td>\n",
       "      <td>Yes</td>\n",
       "      <td>Microsoft certification</td>\n",
       "      <td>Yes</td>\n",
       "      <td>Computer Software Engineer</td>\n",
       "      <td>NaN</td>\n",
       "    </tr>\n",
       "    <tr>\n",
       "      <th>2</th>\n",
       "      <td>Aakriti</td>\n",
       "      <td>Female</td>\n",
       "      <td>BA</td>\n",
       "      <td>Psychology</td>\n",
       "      <td>Understand human behaviour</td>\n",
       "      <td>People management;Communication skills</td>\n",
       "      <td>64.6</td>\n",
       "      <td>Yes</td>\n",
       "      <td>Resilience psychology</td>\n",
       "      <td>No</td>\n",
       "      <td>NaN</td>\n",
       "      <td>NaN</td>\n",
       "    </tr>\n",
       "    <tr>\n",
       "      <th>3</th>\n",
       "      <td>Aanchal sharma</td>\n",
       "      <td>Female</td>\n",
       "      <td>MBA</td>\n",
       "      <td>Commerce</td>\n",
       "      <td>Sales/Marketing;Trading;Understand human behav...</td>\n",
       "      <td>Accounting Skills;Critical Thinking</td>\n",
       "      <td>75.525</td>\n",
       "      <td>No</td>\n",
       "      <td>No</td>\n",
       "      <td>Yes</td>\n",
       "      <td>Relationships manager</td>\n",
       "      <td>NaN</td>\n",
       "    </tr>\n",
       "    <tr>\n",
       "      <th>4</th>\n",
       "      <td>Aangkeeta Sarkar</td>\n",
       "      <td>Female</td>\n",
       "      <td>B.Tech</td>\n",
       "      <td>Instrumentation Engineering</td>\n",
       "      <td>Technology</td>\n",
       "      <td>\\nPLC Allen Bradley;PLC Ladder Logic;LabVIEW;B...</td>\n",
       "      <td>70.68</td>\n",
       "      <td>Yes</td>\n",
       "      <td>Extreme Productivity (Blinkist Summary)</td>\n",
       "      <td>Yes</td>\n",
       "      <td>Plant Instrumentation Engineer</td>\n",
       "      <td>NaN</td>\n",
       "    </tr>\n",
       "  </tbody>\n",
       "</table>\n",
       "</div>"
      ],
      "text/plain": [
       "                 nm      gr      ug                          ugsp  \\\n",
       "0       A.Uha Priya  Female    B.Sc         Computer Applications   \n",
       "1             Aadil    Male     B.E  Computer Science Engineering   \n",
       "2           Aakriti  Female      BA                    Psychology   \n",
       "3    Aanchal sharma  Female     MBA                      Commerce   \n",
       "4  Aangkeeta Sarkar  Female  B.Tech   Instrumentation Engineering   \n",
       "\n",
       "                                                 irt  \\\n",
       "0                                    Cloud computing   \n",
       "1                                         Technology   \n",
       "2                         Understand human behaviour   \n",
       "3  Sales/Marketing;Trading;Understand human behav...   \n",
       "4                                         Technology   \n",
       "\n",
       "                                                 ski     cgp cert  \\\n",
       "0                                    Python;SQL;Java      85  Yes   \n",
       "1  Critical Thinking, Analytic Thinking, SQL, Pro...    66.5  Yes   \n",
       "2             People management;Communication skills    64.6  Yes   \n",
       "3                Accounting Skills;Critical Thinking  75.525   No   \n",
       "4  \\nPLC Allen Bradley;PLC Ladder Logic;LabVIEW;B...   70.68  Yes   \n",
       "\n",
       "                                     certc  wrk  \\\n",
       "0                                Linux,Git  Yes   \n",
       "1                 Microsoft certification   Yes   \n",
       "2                    Resilience psychology   No   \n",
       "3                                       No  Yes   \n",
       "4  Extreme Productivity (Blinkist Summary)  Yes   \n",
       "\n",
       "                              job  mas  \n",
       "0                        Software  MCA  \n",
       "1      Computer Software Engineer  NaN  \n",
       "2                             NaN  NaN  \n",
       "3           Relationships manager  NaN  \n",
       "4  Plant Instrumentation Engineer  NaN  "
      ]
     },
     "execution_count": 7,
     "metadata": {},
     "output_type": "execute_result"
    }
   ],
   "source": [
    "df.head()"
   ]
  },
  {
   "cell_type": "markdown",
   "id": "c9a0437d",
   "metadata": {},
   "source": [
    "# EDA "
   ]
  },
  {
   "cell_type": "markdown",
   "id": "91e9b150",
   "metadata": {},
   "source": [
    "# EDA by pandas profiling"
   ]
  },
  {
   "cell_type": "code",
   "execution_count": null,
   "id": "3a09f3d6",
   "metadata": {},
   "outputs": [],
   "source": [
    "from pandas_profiling import ProfileReport\n",
    "pf=ProfileReport(df)"
   ]
  },
  {
   "cell_type": "code",
   "execution_count": null,
   "id": "2a9207d5",
   "metadata": {},
   "outputs": [],
   "source": [
    "pf"
   ]
  },
  {
   "cell_type": "code",
   "execution_count": 8,
   "id": "3061be30",
   "metadata": {},
   "outputs": [
    {
     "data": {
      "text/html": [
       "<div>\n",
       "<style scoped>\n",
       "    .dataframe tbody tr th:only-of-type {\n",
       "        vertical-align: middle;\n",
       "    }\n",
       "\n",
       "    .dataframe tbody tr th {\n",
       "        vertical-align: top;\n",
       "    }\n",
       "\n",
       "    .dataframe thead th {\n",
       "        text-align: right;\n",
       "    }\n",
       "</style>\n",
       "<table border=\"1\" class=\"dataframe\">\n",
       "  <thead>\n",
       "    <tr style=\"text-align: right;\">\n",
       "      <th></th>\n",
       "      <th>nm</th>\n",
       "      <th>gr</th>\n",
       "      <th>ug</th>\n",
       "      <th>ugsp</th>\n",
       "      <th>irt</th>\n",
       "      <th>ski</th>\n",
       "      <th>cgp</th>\n",
       "      <th>cert</th>\n",
       "      <th>certc</th>\n",
       "      <th>wrk</th>\n",
       "      <th>job</th>\n",
       "      <th>mas</th>\n",
       "    </tr>\n",
       "  </thead>\n",
       "  <tbody>\n",
       "    <tr>\n",
       "      <th>count</th>\n",
       "      <td>1195</td>\n",
       "      <td>1195</td>\n",
       "      <td>1195</td>\n",
       "      <td>1195</td>\n",
       "      <td>1195</td>\n",
       "      <td>1194</td>\n",
       "      <td>1195</td>\n",
       "      <td>1195</td>\n",
       "      <td>1195</td>\n",
       "      <td>1195</td>\n",
       "      <td>899</td>\n",
       "      <td>469</td>\n",
       "    </tr>\n",
       "    <tr>\n",
       "      <th>unique</th>\n",
       "      <td>1161</td>\n",
       "      <td>3</td>\n",
       "      <td>59</td>\n",
       "      <td>295</td>\n",
       "      <td>615</td>\n",
       "      <td>1007</td>\n",
       "      <td>301</td>\n",
       "      <td>3</td>\n",
       "      <td>524</td>\n",
       "      <td>2</td>\n",
       "      <td>483</td>\n",
       "      <td>236</td>\n",
       "    </tr>\n",
       "    <tr>\n",
       "      <th>top</th>\n",
       "      <td>Abhishek</td>\n",
       "      <td>Male</td>\n",
       "      <td>B.Tech</td>\n",
       "      <td>Computer Science Engineering</td>\n",
       "      <td>Technology</td>\n",
       "      <td>NO</td>\n",
       "      <td>76</td>\n",
       "      <td>Yes</td>\n",
       "      <td>No</td>\n",
       "      <td>Yes</td>\n",
       "      <td>Student (Unemployed)</td>\n",
       "      <td>Masters in Business Administration</td>\n",
       "    </tr>\n",
       "    <tr>\n",
       "      <th>freq</th>\n",
       "      <td>3</td>\n",
       "      <td>806</td>\n",
       "      <td>488</td>\n",
       "      <td>174</td>\n",
       "      <td>132</td>\n",
       "      <td>44</td>\n",
       "      <td>56</td>\n",
       "      <td>611</td>\n",
       "      <td>580</td>\n",
       "      <td>713</td>\n",
       "      <td>116</td>\n",
       "      <td>42</td>\n",
       "    </tr>\n",
       "  </tbody>\n",
       "</table>\n",
       "</div>"
      ],
      "text/plain": [
       "              nm    gr      ug                          ugsp         irt  \\\n",
       "count       1195  1195    1195                          1195        1195   \n",
       "unique      1161     3      59                           295         615   \n",
       "top     Abhishek  Male  B.Tech  Computer Science Engineering  Technology   \n",
       "freq           3   806     488                           174         132   \n",
       "\n",
       "         ski   cgp  cert certc   wrk                   job  \\\n",
       "count   1194  1195  1195  1195  1195                   899   \n",
       "unique  1007   301     3   524     2                   483   \n",
       "top       NO    76   Yes    No   Yes  Student (Unemployed)   \n",
       "freq      44    56   611   580   713                   116   \n",
       "\n",
       "                                       mas  \n",
       "count                                  469  \n",
       "unique                                 236  \n",
       "top     Masters in Business Administration  \n",
       "freq                                    42  "
      ]
     },
     "execution_count": 8,
     "metadata": {},
     "output_type": "execute_result"
    }
   ],
   "source": [
    "df.describe()"
   ]
  },
  {
   "cell_type": "code",
   "execution_count": 9,
   "id": "dda47186",
   "metadata": {},
   "outputs": [
    {
     "data": {
      "text/plain": [
       "nm         0\n",
       "gr         0\n",
       "ug         0\n",
       "ugsp       0\n",
       "irt        0\n",
       "ski        1\n",
       "cgp        0\n",
       "cert       0\n",
       "certc      0\n",
       "wrk        0\n",
       "job      296\n",
       "mas      726\n",
       "dtype: int64"
      ]
     },
     "execution_count": 9,
     "metadata": {},
     "output_type": "execute_result"
    }
   ],
   "source": [
    " df.isnull().sum()"
   ]
  },
  {
   "cell_type": "code",
   "execution_count": 10,
   "id": "6d492230",
   "metadata": {},
   "outputs": [],
   "source": [
    "df.fillna('', inplace=True)"
   ]
  },
  {
   "cell_type": "markdown",
   "id": "f0ea42cf",
   "metadata": {},
   "source": [
    "# EDA,Univariate Analysis and Data Preprocessing"
   ]
  },
  {
   "cell_type": "code",
   "execution_count": 11,
   "id": "1f7cdadf",
   "metadata": {},
   "outputs": [],
   "source": [
    "#since the name is not a variable for model building, we can delete.\n",
    "del df['nm']"
   ]
  },
  {
   "cell_type": "code",
   "execution_count": 12,
   "id": "6561c2bd",
   "metadata": {},
   "outputs": [
    {
     "data": {
      "text/plain": [
       "0       Female\n",
       "1         Male\n",
       "2       Female\n",
       "3       Female\n",
       "4       Female\n",
       "         ...  \n",
       "1190      Male\n",
       "1191      Male\n",
       "1192      Male\n",
       "1193      Male\n",
       "1194      Male\n",
       "Name: gr, Length: 1195, dtype: object"
      ]
     },
     "execution_count": 12,
     "metadata": {},
     "output_type": "execute_result"
    }
   ],
   "source": [
    "df.gr"
   ]
  },
  {
   "cell_type": "code",
   "execution_count": 13,
   "id": "4d3c51f7",
   "metadata": {},
   "outputs": [
    {
     "data": {
      "text/plain": [
       "array(['Female', 'Male', 'Prefer not to say'], dtype=object)"
      ]
     },
     "execution_count": 13,
     "metadata": {},
     "output_type": "execute_result"
    }
   ],
   "source": [
    "df.gr.unique()"
   ]
  },
  {
   "cell_type": "code",
   "execution_count": 14,
   "id": "d63df508",
   "metadata": {},
   "outputs": [
    {
     "data": {
      "text/plain": [
       "array(['B.Sc', 'B.E', 'BA', 'MBA', 'B.Tech', 'BMS', 'B.Com', 'BE', 'BCA',\n",
       "       'M.Tech', 'BBA', 'B.Pharmacy', 'Bca', 'Diploma', 'Law Hons  ',\n",
       "       'Law Hons', 'Biotechnology', 'B.M.S', 'BALLB', 'MCA',\n",
       "       'Bachelor of Management Studies', 'Diploma in pharmacy\\xa0',\n",
       "       'Bachelor of journalism', 'Doctor ', 'B.A.F', 'M.A',\n",
       "       'Master of journalism', 'M.Sc', 'Master of journalism ',\n",
       "       'Pharmacy', 'D ed', 'Hh', 'BBA\\xa0', 'B.E.', 'B.E\\xa0', 'Poo.sc',\n",
       "       'Chartered Accountancy', 'B.Com\\xa0', 'B.Pharm', 'MA', 'BE\\xa0',\n",
       "       'M.Com', 'B.E.\\xa0', 'Commercial Art Visual art', 'BCA\\xa0',\n",
       "       'B.Arch', 'MDCS', 'Bhmct', 'Arts', 'Hsc', 'TYB.COM', 'Degree',\n",
       "       'G. N. M Nurshing', 'Economics ', 'BAC', 'Journalism ',\n",
       "       'Agri diploma', 'DME', 'PGDM'], dtype=object)"
      ]
     },
     "execution_count": 14,
     "metadata": {},
     "output_type": "execute_result"
    }
   ],
   "source": [
    "df.ug.unique()"
   ]
  },
  {
   "cell_type": "code",
   "execution_count": 15,
   "id": "19f9c690",
   "metadata": {},
   "outputs": [
    {
     "data": {
      "text/plain": [
       "<AxesSubplot: >"
      ]
     },
     "execution_count": 15,
     "metadata": {},
     "output_type": "execute_result"
    },
    {
     "data": {
      "image/png": "[encoded data removed]",
      "text/plain": [
       "<Figure size 640x480 with 1 Axes>"
      ]
     },
     "metadata": {},
     "output_type": "display_data"
    }
   ],
   "source": [
    "df['ug'].value_counts()[:10].plot(kind='barh')"
   ]
  },
  {
   "cell_type": "code",
   "execution_count": 16,
   "id": "e44b4c07",
   "metadata": {},
   "outputs": [],
   "source": [
    "i=0\n",
    "while 1195 >i:\n",
    " m_to_b=df.ug[i]\n",
    " if m_to_b.startswith('M') ==True:\n",
    "       df.ug[i] = m_to_b.replace(m_to_b[0], 'B')\n",
    "        \n",
    " i=i+1    "
   ]
  },
  {
   "cell_type": "code",
   "execution_count": 17,
   "id": "2fdb5d3b",
   "metadata": {},
   "outputs": [
    {
     "data": {
      "text/html": [
       "<div>\n",
       "<style scoped>\n",
       "    .dataframe tbody tr th:only-of-type {\n",
       "        vertical-align: middle;\n",
       "    }\n",
       "\n",
       "    .dataframe tbody tr th {\n",
       "        vertical-align: top;\n",
       "    }\n",
       "\n",
       "    .dataframe thead th {\n",
       "        text-align: right;\n",
       "    }\n",
       "</style>\n",
       "<table border=\"1\" class=\"dataframe\">\n",
       "  <thead>\n",
       "    <tr style=\"text-align: right;\">\n",
       "      <th></th>\n",
       "      <th>gr</th>\n",
       "      <th>ug</th>\n",
       "      <th>ugsp</th>\n",
       "      <th>irt</th>\n",
       "      <th>ski</th>\n",
       "      <th>cgp</th>\n",
       "      <th>cert</th>\n",
       "      <th>certc</th>\n",
       "      <th>wrk</th>\n",
       "      <th>job</th>\n",
       "      <th>mas</th>\n",
       "    </tr>\n",
       "  </thead>\n",
       "  <tbody>\n",
       "    <tr>\n",
       "      <th>0</th>\n",
       "      <td>Female</td>\n",
       "      <td>B.Sc</td>\n",
       "      <td>Computer Applications</td>\n",
       "      <td>Cloud computing</td>\n",
       "      <td>Python;SQL;Java</td>\n",
       "      <td>85</td>\n",
       "      <td>Yes</td>\n",
       "      <td>Linux,Git</td>\n",
       "      <td>Yes</td>\n",
       "      <td>Software</td>\n",
       "      <td>MCA</td>\n",
       "    </tr>\n",
       "    <tr>\n",
       "      <th>1</th>\n",
       "      <td>Male</td>\n",
       "      <td>B.E</td>\n",
       "      <td>Computer Science Engineering</td>\n",
       "      <td>Technology</td>\n",
       "      <td>Critical Thinking, Analytic Thinking, SQL, Pro...</td>\n",
       "      <td>66.5</td>\n",
       "      <td>Yes</td>\n",
       "      <td>Microsoft certification</td>\n",
       "      <td>Yes</td>\n",
       "      <td>Computer Software Engineer</td>\n",
       "      <td></td>\n",
       "    </tr>\n",
       "    <tr>\n",
       "      <th>2</th>\n",
       "      <td>Female</td>\n",
       "      <td>BA</td>\n",
       "      <td>Psychology</td>\n",
       "      <td>Understand human behaviour</td>\n",
       "      <td>People management;Communication skills</td>\n",
       "      <td>64.6</td>\n",
       "      <td>Yes</td>\n",
       "      <td>Resilience psychology</td>\n",
       "      <td>No</td>\n",
       "      <td></td>\n",
       "      <td></td>\n",
       "    </tr>\n",
       "    <tr>\n",
       "      <th>3</th>\n",
       "      <td>Female</td>\n",
       "      <td>BBA</td>\n",
       "      <td>Commerce</td>\n",
       "      <td>Sales/Marketing;Trading;Understand human behav...</td>\n",
       "      <td>Accounting Skills;Critical Thinking</td>\n",
       "      <td>75.525</td>\n",
       "      <td>No</td>\n",
       "      <td>No</td>\n",
       "      <td>Yes</td>\n",
       "      <td>Relationships manager</td>\n",
       "      <td></td>\n",
       "    </tr>\n",
       "    <tr>\n",
       "      <th>4</th>\n",
       "      <td>Female</td>\n",
       "      <td>B.Tech</td>\n",
       "      <td>Instrumentation Engineering</td>\n",
       "      <td>Technology</td>\n",
       "      <td>\\nPLC Allen Bradley;PLC Ladder Logic;LabVIEW;B...</td>\n",
       "      <td>70.68</td>\n",
       "      <td>Yes</td>\n",
       "      <td>Extreme Productivity (Blinkist Summary)</td>\n",
       "      <td>Yes</td>\n",
       "      <td>Plant Instrumentation Engineer</td>\n",
       "      <td></td>\n",
       "    </tr>\n",
       "    <tr>\n",
       "      <th>...</th>\n",
       "      <td>...</td>\n",
       "      <td>...</td>\n",
       "      <td>...</td>\n",
       "      <td>...</td>\n",
       "      <td>...</td>\n",
       "      <td>...</td>\n",
       "      <td>...</td>\n",
       "      <td>...</td>\n",
       "      <td>...</td>\n",
       "      <td>...</td>\n",
       "      <td>...</td>\n",
       "    </tr>\n",
       "    <tr>\n",
       "      <th>1190</th>\n",
       "      <td>Male</td>\n",
       "      <td>B.Tech</td>\n",
       "      <td>Electronics and Communication Engineering</td>\n",
       "      <td>Technology</td>\n",
       "      <td>Python, SQL, Oracle</td>\n",
       "      <td>72.2</td>\n",
       "      <td>No</td>\n",
       "      <td>AWS cloud practitioner</td>\n",
       "      <td>Yes</td>\n",
       "      <td>Data Engineer</td>\n",
       "      <td>Masters in Computer Science</td>\n",
       "    </tr>\n",
       "    <tr>\n",
       "      <th>1191</th>\n",
       "      <td>Male</td>\n",
       "      <td>B.Sc</td>\n",
       "      <td>Computer Science Engineering</td>\n",
       "      <td>Technology</td>\n",
       "      <td>SQL, Problem Solving skills</td>\n",
       "      <td>80.75</td>\n",
       "      <td>No</td>\n",
       "      <td>No</td>\n",
       "      <td>No</td>\n",
       "      <td>Nothing</td>\n",
       "      <td>Masters in Computer Science</td>\n",
       "    </tr>\n",
       "    <tr>\n",
       "      <th>1192</th>\n",
       "      <td>Male</td>\n",
       "      <td>B.Tech</td>\n",
       "      <td>Animation &amp; Visual Effects</td>\n",
       "      <td>Technology;Content Writing</td>\n",
       "      <td>Programming Language skills;Critical Thinking;...</td>\n",
       "      <td>59.22</td>\n",
       "      <td>Yes</td>\n",
       "      <td>Sql, Python,tableau,data science</td>\n",
       "      <td>Yes</td>\n",
       "      <td>Hr Assistant II</td>\n",
       "      <td></td>\n",
       "    </tr>\n",
       "    <tr>\n",
       "      <th>1193</th>\n",
       "      <td>Male</td>\n",
       "      <td>BE</td>\n",
       "      <td>Computer Science</td>\n",
       "      <td>Financial Analysis, Technology</td>\n",
       "      <td>AI, Java, SQL, C++, R, Linux</td>\n",
       "      <td>57</td>\n",
       "      <td>No</td>\n",
       "      <td>No</td>\n",
       "      <td>No</td>\n",
       "      <td>Student (Unemployed)</td>\n",
       "      <td>Masters in Computer Applications</td>\n",
       "    </tr>\n",
       "    <tr>\n",
       "      <th>1194</th>\n",
       "      <td>Male</td>\n",
       "      <td>B.Sc</td>\n",
       "      <td>Animation &amp; Visual Effects</td>\n",
       "      <td>Animation</td>\n",
       "      <td>2D/3D Animation</td>\n",
       "      <td>76.285</td>\n",
       "      <td>Yes</td>\n",
       "      <td>3D Animation</td>\n",
       "      <td>Yes</td>\n",
       "      <td>VFX Production Assistant</td>\n",
       "      <td></td>\n",
       "    </tr>\n",
       "  </tbody>\n",
       "</table>\n",
       "<p>1195 rows × 11 columns</p>\n",
       "</div>"
      ],
      "text/plain": [
       "          gr      ug                                       ugsp  \\\n",
       "0     Female    B.Sc                      Computer Applications   \n",
       "1       Male     B.E               Computer Science Engineering   \n",
       "2     Female      BA                                 Psychology   \n",
       "3     Female     BBA                                   Commerce   \n",
       "4     Female  B.Tech                Instrumentation Engineering   \n",
       "...      ...     ...                                        ...   \n",
       "1190    Male  B.Tech  Electronics and Communication Engineering   \n",
       "1191    Male    B.Sc               Computer Science Engineering   \n",
       "1192    Male  B.Tech                 Animation & Visual Effects   \n",
       "1193    Male      BE                           Computer Science   \n",
       "1194    Male    B.Sc                 Animation & Visual Effects   \n",
       "\n",
       "                                                    irt  \\\n",
       "0                                       Cloud computing   \n",
       "1                                            Technology   \n",
       "2                            Understand human behaviour   \n",
       "3     Sales/Marketing;Trading;Understand human behav...   \n",
       "4                                            Technology   \n",
       "...                                                 ...   \n",
       "1190                                         Technology   \n",
       "1191                                         Technology   \n",
       "1192                         Technology;Content Writing   \n",
       "1193                     Financial Analysis, Technology   \n",
       "1194                                          Animation   \n",
       "\n",
       "                                                    ski     cgp cert  \\\n",
       "0                                       Python;SQL;Java      85  Yes   \n",
       "1     Critical Thinking, Analytic Thinking, SQL, Pro...    66.5  Yes   \n",
       "2                People management;Communication skills    64.6  Yes   \n",
       "3                   Accounting Skills;Critical Thinking  75.525   No   \n",
       "4     \\nPLC Allen Bradley;PLC Ladder Logic;LabVIEW;B...   70.68  Yes   \n",
       "...                                                 ...     ...  ...   \n",
       "1190                                Python, SQL, Oracle    72.2   No   \n",
       "1191                        SQL, Problem Solving skills   80.75   No   \n",
       "1192  Programming Language skills;Critical Thinking;...   59.22  Yes   \n",
       "1193                       AI, Java, SQL, C++, R, Linux      57   No   \n",
       "1194                                    2D/3D Animation  76.285  Yes   \n",
       "\n",
       "                                        certc  wrk  \\\n",
       "0                                   Linux,Git  Yes   \n",
       "1                    Microsoft certification   Yes   \n",
       "2                       Resilience psychology   No   \n",
       "3                                          No  Yes   \n",
       "4     Extreme Productivity (Blinkist Summary)  Yes   \n",
       "...                                       ...  ...   \n",
       "1190                  AWS cloud practitioner   Yes   \n",
       "1191                                       No   No   \n",
       "1192         Sql, Python,tableau,data science  Yes   \n",
       "1193                                       No   No   \n",
       "1194                             3D Animation  Yes   \n",
       "\n",
       "                                 job                               mas  \n",
       "0                           Software                               MCA  \n",
       "1         Computer Software Engineer                                    \n",
       "2                                                                       \n",
       "3              Relationships manager                                    \n",
       "4     Plant Instrumentation Engineer                                    \n",
       "...                              ...                               ...  \n",
       "1190                   Data Engineer       Masters in Computer Science  \n",
       "1191                         Nothing       Masters in Computer Science  \n",
       "1192                 Hr Assistant II                                    \n",
       "1193            Student (Unemployed)  Masters in Computer Applications  \n",
       "1194        VFX Production Assistant                                    \n",
       "\n",
       "[1195 rows x 11 columns]"
      ]
     },
     "execution_count": 17,
     "metadata": {},
     "output_type": "execute_result"
    }
   ],
   "source": [
    "df"
   ]
  },
  {
   "cell_type": "code",
   "execution_count": 18,
   "id": "64e02b0f",
   "metadata": {},
   "outputs": [
    {
     "data": {
      "text/plain": [
       "array(['B.Sc', 'B.E', 'BA', 'BBA', 'B.Tech', 'BMS', 'B.Com', 'BE', 'BCA',\n",
       "       'B.Pharmacy', 'Bca', 'Diploma', 'Law Hons  ', 'Law Hons',\n",
       "       'Biotechnology', 'B.M.S', 'BALLB',\n",
       "       'Bachelor of Management Studies', 'Diploma in pharmacy\\xa0',\n",
       "       'Bachelor of journalism', 'Doctor ', 'B.A.F', 'B.A',\n",
       "       'Baster of journalism', 'Baster of journalism ', 'Pharmacy',\n",
       "       'D ed', 'Hh', 'BBA\\xa0', 'B.E.', 'B.E\\xa0', 'Poo.sc',\n",
       "       'Chartered Accountancy', 'B.Com\\xa0', 'B.Pharm', 'BE\\xa0',\n",
       "       'B.E.\\xa0', 'Commercial Art Visual art', 'BCA\\xa0', 'B.Arch',\n",
       "       'BDCS', 'Bhmct', 'Arts', 'Hsc', 'TYB.COM', 'Degree',\n",
       "       'G. N. M Nurshing', 'Economics ', 'BAC', 'Journalism ',\n",
       "       'Agri diploma', 'DME', 'PGDM'], dtype=object)"
      ]
     },
     "execution_count": 18,
     "metadata": {},
     "output_type": "execute_result"
    }
   ],
   "source": [
    "df.ug.unique()"
   ]
  },
  {
   "cell_type": "code",
   "execution_count": 19,
   "id": "00355dd7",
   "metadata": {},
   "outputs": [
    {
     "data": {
      "text/plain": [
       "array(['Computer Applications', 'Computer Science Engineering',\n",
       "       'Psychology', 'Commerce', 'Instrumentation Engineering',\n",
       "       'Physics ', 'Accountancy', 'Automobile Engineering', 'Marketing ',\n",
       "       'Automation', 'Science,Maths, Engineering subject',\n",
       "       'Mechanical Engineering', 'Electrical and Electronics Engineering',\n",
       "       'Structural Engineeeing ', 'Mining', 'Accountancy ', 'C language',\n",
       "       'C,c++, java', 'Civil Engineering', 'Management',\n",
       "       'Electronics and Communication Engineering', 'Sales and marketing',\n",
       "       'Economics', 'Computer science and business system', 'Pharmacy',\n",
       "       'Interior design', 'Information Technology', 'Chemistry',\n",
       "       'Commerce ', 'Physics', 'Statistics ', 'Information TechNAlogy',\n",
       "       'Industrial Engineering ', 'High pressure die casting ',\n",
       "       'Accounting&Finance', 'Computer Science Engineering ',\n",
       "       'Computer Science ', 'Mathematics',\n",
       "       'Accounting(business and management) ', 'Sales and Marketing',\n",
       "       'Computer science ', 'Civil Engineering ', 'Statistics',\n",
       "       'Criminal manual', 'Mechanical engineering ', 'Agriculture',\n",
       "       'Company law', 'Electrical Machines', 'Finance', 'Biotechnology',\n",
       "       'Data Structures & Algorithm', 'ManagementÃŠ', 'Law', 'Zoology',\n",
       "       'constitution',\n",
       "       'Principal of programming language with C, MS Office Management Tools, Computer Organization, Mathematics, English.',\n",
       "       'Microbiology', 'Taxation', 'Business Administration', 'Taxation ',\n",
       "       'Electronics & Telecom.', 'History ', 'Thermal engineering',\n",
       "       'Math', 'Hospitality', 'Artificial intelligence ', 'BiotechNAlogy',\n",
       "       'PR', 'Political science ', 'Human Resource', 'Marketing',\n",
       "       'Mechanical Engineering ', 'Computer Science and Engineering',\n",
       "       'Electronics and communication engineering', 'Civil engineering',\n",
       "       'Mechanical ', 'Human resources ', 'Computers Science', 'MCA',\n",
       "       'General', 'Communication & Political Science',\n",
       "       'Structural analysis ', 'Computers', 'cost and work accounting',\n",
       "       'English ', 'Production Engineering', 'Transportation Engineering',\n",
       "       'Computer Application ', 'Java', 'Electronics and communication ',\n",
       "       'Civil', 'B.E complete', 'Engineering', 'History',\n",
       "       'Electronics and Communication Engineering ', 'Accounts', 'ZBC',\n",
       "       'English', 'Computer Applications ', 'Costing',\n",
       "       'Automobile engineering ', 'Electronics & Telecommunications ',\n",
       "       'Programming', 'BiotechNAlogy ',\n",
       "       'Computer ( Languages like  .. C, C++ ,  Java,  C# ) ',\n",
       "       'Dental surgeon ', 'Biology', 'IRPM', 'Mathematics ',\n",
       "       'Computer Software Engineer', 'Finance ', 'Arts', 'Journalism',\n",
       "       'Instrumentation', 'Java Programming & Website Designing',\n",
       "       'MATHEMATICS', 'Mathematics, Statistics and Computer science',\n",
       "       'Programing language', 'EcoNAmics', 'Information Science',\n",
       "       'Vedio editing ', 'Computer Engineering ',\n",
       "       'C, C++, Java, SQL, MySQL, Unix, HTML, Mathematics, Statistics',\n",
       "       'Botany', 'Accounting ', 'Cse', 'N.A',\n",
       "       'Building material and construction ', 'Computer applications ',\n",
       "       'Electronics and Instrumentation Engineering', 'MathematicsÃŠ',\n",
       "       'Finance and HRÃŠ', 'Sales & Marketing', 'electronic ', 'ECR',\n",
       "       'CSIT', 'Information TechNAlogy (IT)', 'PHYSICS ', 'Java ',\n",
       "       'electrical engineering',\n",
       "       'Electrical, Electronics and Power Engineering ', 'Insurance ',\n",
       "       'Geography ', 'EcoNAmics ', 'Computers ',\n",
       "       'Electronics & Telecommunications Engineering',\n",
       "       'Computer Science & Engineering', 'Engineering graphics',\n",
       "       'Chemical engineering', 'Political science', 'Computer', 'Oops',\n",
       "       'Taxation & Law', 'Mechanical(CAD/CAM) ',\n",
       "       'Electrical and Electronics', 'Agriculture Engineering ', 'BPS',\n",
       "       'Home science', 'Engineering ', 'Accounting',\n",
       "       'Electrical engineering ', 'Data science', 'Medical electronics',\n",
       "       'computer science', 'Principles of Programming Through C Language',\n",
       "       'Education', 'Digital Signal Processing', 'Fashion designing ',\n",
       "       'Computer Science  Engineering', 'C programming ', 'BA',\n",
       "       'Automobile ', 'Marketing analyticsÃŠ',\n",
       "       'Renual resources and energy', 'Electrical sciences',\n",
       "       'Computer Science', 'data analysis', 'MM', 'Applied Geology ',\n",
       "       'finances', 'Electrical Engineering', 'Engineerinh', 'C++',\n",
       "       'Chemical Engineering ', 'AutoCAD', 'Design',\n",
       "       'Accounting, designing', 'Dietician',\n",
       "       'Reporting, Anchoring, Tv Journalism, Advertising & Radio ',\n",
       "       'Aerospace engineering', 'Aerospace Engineering',\n",
       "       'Mobile communications ', 'Electrical Engineering ', 'Animation',\n",
       "       'pharma D', 'Hindi Education and Geography ',\n",
       "       'Software engineering, java programming, web development ',\n",
       "       'Kathak dance', 'Biological sciences ',\n",
       "       'Criminal justice/ law enforcement administration', 'Aeronautical',\n",
       "       'General studies ', 'Mass communication', 'Computer engineering',\n",
       "       'Genetic Engineering', 'Hospital administration', ' Management',\n",
       "       'Architecture', 'Maths ', 'Dynamics of machine', 'Coding ',\n",
       "       'business administration', 'Instrumention Engineering',\n",
       "       'Accountancy & Finance', 'Electrical and electronic Engineering',\n",
       "       'Electronics and communication Engineering',\n",
       "       'Electronics n Telecommunication', 'Chemical Engineering',\n",
       "       'Bcom-Accounting', 'ArchitectureÃŠ', 'Political Science',\n",
       "       'Human Resources', 'Data science ', 'Maths', 'Construction',\n",
       "       'BA in Home Science', 'English, ecoNAmics', 'Python ', 'B.com',\n",
       "       'Principal of business management', 'English literature ',\n",
       "       'NAn Coal', 'Civil structural', 'Mechania',\n",
       "       'Data Warehousing & Data Mining',\n",
       "       'M.com(Management and marketing)', 'Mathematics , Computer',\n",
       "       'general', 'Sociology', 'Literature', 'BBA ', 'Plastic Design',\n",
       "       'EcoNAmy ', 'home science .',\n",
       "       'Accounts,public finance,ecoNAmics,business studies', 'Science ',\n",
       "       'fmhm', 'Science', 'Electronics ', 'Mechanical Machines ',\n",
       "       'Bio technology', 'CEE', 'Advertising',\n",
       "       'Elections and telecommunication engineering',\n",
       "       'Software Development', 'Electronics and Telecommunication',\n",
       "       'Financial Analyst', 'Office management', 'Entc', 'Tamil',\n",
       "       'Programs', 'Electronic and Communication Engineering',\n",
       "       'Journalism ', 'Electronics and telecommunication',\n",
       "       'Microbiology genetics', 'Pharmaceutical sciences', 'Mining ',\n",
       "       'B.tech', 'Mar', 'History, sociology,', 'Accounts and Statistics',\n",
       "       'Electronic and telecommunications ', 'Accounting  and Finance',\n",
       "       'C, C++, java, SQL, MYSql, Unix, Html, Mathematics, Statistics',\n",
       "       'Business', 'Electronics and telecommunication ',\n",
       "       'Media Management', 'Structure ',\n",
       "       'Electronics and computer engineering', 'Business Studies',\n",
       "       'Computer science and engineering ', 'marketing',\n",
       "       ' Computer Applications', 'Physics, Chemistry and Mathematics',\n",
       "       'NAthing ', 'Graphics', 'Mechanical enggineering',\n",
       "       'Agriculture BiotechNAlogy', 'Information TechNAlogy ',\n",
       "       'computers', 'Statistics,Mathematics,Computers',\n",
       "       'Business Management ', 'Bbb', 'Coding',\n",
       "       'Animation & Visual Effects'], dtype=object)"
      ]
     },
     "execution_count": 19,
     "metadata": {},
     "output_type": "execute_result"
    }
   ],
   "source": [
    "df.ugsp.unique()"
   ]
  },
  {
   "cell_type": "code",
   "execution_count": 20,
   "id": "46f511f6",
   "metadata": {},
   "outputs": [],
   "source": [
    "df.loc[df['ugsp'] == 'C,c++, java', 'ugsp'] = 'computer science Engineering'\n",
    "df.loc[df['ugsp'] == 'Science,Maths, Engineering subject', 'ugsp'] = 'Engineering'\n",
    "df.loc[df['ugsp'] == 'Structural Engineeeing', 'ugsp'] = 'civil engineering'\n",
    "df.loc[df['ugsp'] ==  'High pressure die casting ', 'ugsp'] = 'Mechanical engineering'\n",
    "\n",
    "df.loc[df['ugsp'] == 'Electrical Machines', 'ugsp'] = 'celectrical Engineering'\n",
    "df.loc[df['ugsp'] == 'ManagementÃŠ', 'ugsp'] = 'Management'\n",
    "df.loc[df['ugsp'] == 'Principal of programming language with C, MS Office Management Tools, Computer Organization, Mathematics, English.', 'ugsp'] = 'computer science engineering'\n",
    "df.loc[df['ugsp'] == 'Electronics & Telecom.', 'ugsp'] = 'Electrical and Electronics engineering'\n",
    "\n",
    "df.loc[df['ugsp'] == 'Mechanical ', 'ugsp'] = 'Mechanical Engineering'\n",
    "df.loc[df['ugsp'] == 'Structural analysis ', 'ugsp'] = 'civil Engineering'\n",
    "df.loc[df['ugsp'] == 'Transportation Engineering', 'ugsp'] = 'civil engineering'\n",
    "df.loc[df['ugsp'] =='B.E complete', 'ugsp'] = 'engineering'\n",
    "\n",
    "df.loc[df['ugsp'] =='Computer ( Languages like  .. C, C++ ,  Java,  C# ) ', 'ugsp'] = 'computer science Engineering'\n",
    "df.loc[df['ugsp'] =='Java Programming & Website Designing' , 'ugsp'] = 'computer science Engineering'\n",
    "df.loc[df['ugsp'] == 'Programing language', 'ugsp'] = 'computer science engineering'\n",
    "df.loc[df['ugsp'] == 'C, C++, Java, SQL, MySQL, Unix, HTML, Mathematics, Statistics', 'ugsp'] = 'computer science engineering'\n",
    "\n",
    "df.loc[df['ugsp'] == 'Cse', 'ugsp'] = 'computer science Engineering'\n",
    "df.loc[df['ugsp'] == 'Building material and construction ', 'ugsp'] = 'civil Engineering'\n",
    "df.loc[df['ugsp'] == 'MathematicsÃŠ', 'ugsp'] = 'mathematics'\n",
    "df.loc[df['ugsp'] == 'CSIT', 'ugsp'] = 'computer science engineering'\n",
    "\n",
    "df.loc[df['ugsp'] ==  'Java ', 'ugsp'] = 'computer science Engineering'\n",
    "df.loc[df['ugsp'] == 'Engineering graphics', 'ugsp'] = 'civil Engineering'\n",
    "df.loc[df['ugsp'] == 'B.E.\\xa0', 'ugsp'] = 'engineering'\n",
    "df.loc[df['ugsp'] == 'Oops', 'ugsp'] = 'computer science engineering'\n",
    "\n",
    "df.loc[df['ugsp'] ==   'NAthing ', 'ugsp'] = 'na'\n",
    "df.loc[df['ugsp'] == 'Graphics', 'ugsp'] = 'civil Engineering'\n",
    "df.loc[df['ugsp'] ==  'C, C++, java, SQL, MYSql, Unix, Html, Mathematics, Statistics', 'ugsp'] = 'computer science engineering'\n",
    "df.loc[df['ugsp'] ==  'Coding', 'ugsp'] = 'computer science engineering'\n",
    "\n",
    "df.loc[df['ugsp'] ==  'C language', 'ugsp'] = 'computer science Engineering'\n",
    "df.loc[df['ugsp'] =='C++', 'ugsp'] = 'computer science Engineering'\n",
    "df.loc[df['ugsp'] == 'Coding ', 'ugsp'] = 'computer science engineering'\n",
    "df.loc[df['ugsp'] == 'Java', 'ugsp'] = 'computer science engineering'\n",
    "\n",
    "df.loc[df['ugsp'] ==   'Structure ', 'ugsp'] = 'civil Engineering'\n",
    "df.loc[df['ugsp'] == 'Mechanical Machines ', 'ugsp'] = 'mechanical Engineering'\n",
    "df.loc[df['ugsp'] == 'Software engineering, java programming, web development ', 'ugsp'] = 'computer science engineering'\n",
    "df.loc[df['ugsp'] == 'Mechania', 'ugsp'] = 'mechanical engineering'\n"
   ]
  },
  {
   "cell_type": "code",
   "execution_count": 21,
   "id": "4b855f42",
   "metadata": {},
   "outputs": [
    {
     "data": {
      "text/plain": [
       "array(['Computer Applications', 'Computer Science Engineering',\n",
       "       'Psychology', 'Commerce', 'Instrumentation Engineering',\n",
       "       'Physics ', 'Accountancy', 'Automobile Engineering', 'Marketing ',\n",
       "       'Automation', 'Engineering', 'Mechanical Engineering',\n",
       "       'Electrical and Electronics Engineering',\n",
       "       'Structural Engineeeing ', 'Mining', 'Accountancy ',\n",
       "       'computer science Engineering', 'Civil Engineering', 'Management',\n",
       "       'Electronics and Communication Engineering', 'Sales and marketing',\n",
       "       'Economics', 'Computer science and business system', 'Pharmacy',\n",
       "       'Interior design', 'Information Technology', 'Chemistry',\n",
       "       'Commerce ', 'Physics', 'Statistics ', 'Information TechNAlogy',\n",
       "       'Industrial Engineering ', 'Mechanical engineering',\n",
       "       'Accounting&Finance', 'Computer Science Engineering ',\n",
       "       'Computer Science ', 'Mathematics',\n",
       "       'Accounting(business and management) ', 'Sales and Marketing',\n",
       "       'Computer science ', 'Civil Engineering ', 'Statistics',\n",
       "       'Criminal manual', 'Mechanical engineering ', 'Agriculture',\n",
       "       'Company law', 'celectrical Engineering', 'Finance',\n",
       "       'Biotechnology', 'Data Structures & Algorithm', 'Law', 'Zoology',\n",
       "       'constitution', 'computer science engineering', 'Microbiology',\n",
       "       'Taxation', 'Business Administration', 'Taxation ',\n",
       "       'Electrical and Electronics engineering', 'History ',\n",
       "       'Thermal engineering', 'Math', 'Hospitality',\n",
       "       'Artificial intelligence ', 'BiotechNAlogy', 'PR',\n",
       "       'Political science ', 'Human Resource', 'Marketing',\n",
       "       'Mechanical Engineering ', 'Computer Science and Engineering',\n",
       "       'Electronics and communication engineering', 'Civil engineering',\n",
       "       'Human resources ', 'Computers Science', 'MCA', 'General',\n",
       "       'Communication & Political Science', 'civil Engineering',\n",
       "       'Computers', 'cost and work accounting', 'English ',\n",
       "       'Production Engineering', 'civil engineering',\n",
       "       'Computer Application ', 'Electronics and communication ', 'Civil',\n",
       "       'engineering', 'History',\n",
       "       'Electronics and Communication Engineering ', 'Accounts', 'ZBC',\n",
       "       'English', 'Computer Applications ', 'Costing',\n",
       "       'Automobile engineering ', 'Electronics & Telecommunications ',\n",
       "       'Programming', 'BiotechNAlogy ', 'Dental surgeon ', 'Biology',\n",
       "       'IRPM', 'Mathematics ', 'Computer Software Engineer', 'Finance ',\n",
       "       'Arts', 'Journalism', 'Instrumentation', 'MATHEMATICS',\n",
       "       'Mathematics, Statistics and Computer science', 'EcoNAmics',\n",
       "       'Information Science', 'Vedio editing ', 'Computer Engineering ',\n",
       "       'Botany', 'Accounting ', 'N.A', 'Computer applications ',\n",
       "       'Electronics and Instrumentation Engineering', 'mathematics',\n",
       "       'Finance and HRÃŠ', 'Sales & Marketing', 'electronic ', 'ECR',\n",
       "       'Information TechNAlogy (IT)', 'PHYSICS ',\n",
       "       'electrical engineering',\n",
       "       'Electrical, Electronics and Power Engineering ', 'Insurance ',\n",
       "       'Geography ', 'EcoNAmics ', 'Computers ',\n",
       "       'Electronics & Telecommunications Engineering',\n",
       "       'Computer Science & Engineering', 'Chemical engineering',\n",
       "       'Political science', 'Computer', 'Taxation & Law',\n",
       "       'Mechanical(CAD/CAM) ', 'Electrical and Electronics',\n",
       "       'Agriculture Engineering ', 'BPS', 'Home science', 'Engineering ',\n",
       "       'Accounting', 'Electrical engineering ', 'Data science',\n",
       "       'Medical electronics', 'computer science',\n",
       "       'Principles of Programming Through C Language', 'Education',\n",
       "       'Digital Signal Processing', 'Fashion designing ',\n",
       "       'Computer Science  Engineering', 'C programming ', 'BA',\n",
       "       'Automobile ', 'Marketing analyticsÃŠ',\n",
       "       'Renual resources and energy', 'Electrical sciences',\n",
       "       'Computer Science', 'data analysis', 'MM', 'Applied Geology ',\n",
       "       'finances', 'Electrical Engineering', 'Engineerinh',\n",
       "       'Chemical Engineering ', 'AutoCAD', 'Design',\n",
       "       'Accounting, designing', 'Dietician',\n",
       "       'Reporting, Anchoring, Tv Journalism, Advertising & Radio ',\n",
       "       'Aerospace engineering', 'Aerospace Engineering',\n",
       "       'Mobile communications ', 'Electrical Engineering ', 'Animation',\n",
       "       'pharma D', 'Hindi Education and Geography ', 'Kathak dance',\n",
       "       'Biological sciences ',\n",
       "       'Criminal justice/ law enforcement administration', 'Aeronautical',\n",
       "       'General studies ', 'Mass communication', 'Computer engineering',\n",
       "       'Genetic Engineering', 'Hospital administration', ' Management',\n",
       "       'Architecture', 'Maths ', 'Dynamics of machine',\n",
       "       'business administration', 'Instrumention Engineering',\n",
       "       'Accountancy & Finance', 'Electrical and electronic Engineering',\n",
       "       'Electronics and communication Engineering',\n",
       "       'Electronics n Telecommunication', 'Chemical Engineering',\n",
       "       'Bcom-Accounting', 'ArchitectureÃŠ', 'Political Science',\n",
       "       'Human Resources', 'Data science ', 'Maths', 'Construction',\n",
       "       'BA in Home Science', 'English, ecoNAmics', 'Python ', 'B.com',\n",
       "       'Principal of business management', 'English literature ',\n",
       "       'NAn Coal', 'Civil structural', 'mechanical engineering',\n",
       "       'Data Warehousing & Data Mining',\n",
       "       'M.com(Management and marketing)', 'Mathematics , Computer',\n",
       "       'general', 'Sociology', 'Literature', 'BBA ', 'Plastic Design',\n",
       "       'EcoNAmy ', 'home science .',\n",
       "       'Accounts,public finance,ecoNAmics,business studies', 'Science ',\n",
       "       'fmhm', 'Science', 'Electronics ', 'mechanical Engineering',\n",
       "       'Bio technology', 'CEE', 'Advertising',\n",
       "       'Elections and telecommunication engineering',\n",
       "       'Software Development', 'Electronics and Telecommunication',\n",
       "       'Financial Analyst', 'Office management', 'Entc', 'Tamil',\n",
       "       'Programs', 'Electronic and Communication Engineering',\n",
       "       'Journalism ', 'Electronics and telecommunication',\n",
       "       'Microbiology genetics', 'Pharmaceutical sciences', 'Mining ',\n",
       "       'B.tech', 'Mar', 'History, sociology,', 'Accounts and Statistics',\n",
       "       'Electronic and telecommunications ', 'Accounting  and Finance',\n",
       "       'Business', 'Electronics and telecommunication ',\n",
       "       'Media Management', 'Electronics and computer engineering',\n",
       "       'Business Studies', 'Computer science and engineering ',\n",
       "       'marketing', ' Computer Applications',\n",
       "       'Physics, Chemistry and Mathematics', 'na',\n",
       "       'Mechanical enggineering', 'Agriculture BiotechNAlogy',\n",
       "       'Information TechNAlogy ', 'computers',\n",
       "       'Statistics,Mathematics,Computers', 'Business Management ', 'Bbb',\n",
       "       'Animation & Visual Effects'], dtype=object)"
      ]
     },
     "execution_count": 21,
     "metadata": {},
     "output_type": "execute_result"
    }
   ],
   "source": [
    "df.ugsp.unique()"
   ]
  },
  {
   "cell_type": "code",
   "execution_count": 22,
   "id": "a72a4b67",
   "metadata": {},
   "outputs": [],
   "source": [
    "bool_series = pd.isnull(df[\"ugsp\"]) "
   ]
  },
  {
   "cell_type": "code",
   "execution_count": 23,
   "id": "6afeb451",
   "metadata": {},
   "outputs": [
    {
     "data": {
      "text/plain": [
       "0"
      ]
     },
     "execution_count": 23,
     "metadata": {},
     "output_type": "execute_result"
    }
   ],
   "source": [
    "bool_series.sum()"
   ]
  },
  {
   "cell_type": "code",
   "execution_count": 24,
   "id": "d997c2e7",
   "metadata": {},
   "outputs": [
    {
     "data": {
      "text/plain": [
       "<AxesSubplot: >"
      ]
     },
     "execution_count": 24,
     "metadata": {},
     "output_type": "execute_result"
    },
    {
     "data": {
      "image/png": "[encoded data removed]",
      "text/plain": [
       "<Figure size 640x480 with 1 Axes>"
      ]
     },
     "metadata": {},
     "output_type": "display_data"
    }
   ],
   "source": [
    "df['ugsp'].value_counts()[:10].plot(kind='barh')\n"
   ]
  },
  {
   "cell_type": "code",
   "execution_count": 25,
   "id": "20e360ea",
   "metadata": {},
   "outputs": [],
   "source": [
    "#both are categorical variable, so we can do tfidf "
   ]
  },
  {
   "cell_type": "code",
   "execution_count": 26,
   "id": "5cfec4b5",
   "metadata": {
    "scrolled": true
   },
   "outputs": [],
   "source": [
    "#df['cgp'].mean()"
   ]
  },
  {
   "cell_type": "code",
   "execution_count": 27,
   "id": "14cdb3c7",
   "metadata": {},
   "outputs": [
    {
     "name": "stdout",
     "output_type": "stream",
     "text": [
      "58 \n"
     ]
    }
   ],
   "source": [
    "for i in df['cgp']:\n",
    "    if type(i)== str:\n",
    "        print(i)\n",
    "    else: continue"
   ]
  },
  {
   "cell_type": "code",
   "execution_count": 28,
   "id": "802ae9ae",
   "metadata": {},
   "outputs": [],
   "source": [
    "df.cgp = df.cgp.astype('int64')"
   ]
  },
  {
   "cell_type": "code",
   "execution_count": 29,
   "id": "bc89d5b6",
   "metadata": {},
   "outputs": [],
   "source": [
    "mean=df['cgp'].mean()"
   ]
  },
  {
   "cell_type": "code",
   "execution_count": 30,
   "id": "217e1f6c",
   "metadata": {},
   "outputs": [
    {
     "data": {
      "text/plain": [
       "71.24937238493723"
      ]
     },
     "execution_count": 30,
     "metadata": {},
     "output_type": "execute_result"
    }
   ],
   "source": [
    "mean"
   ]
  },
  {
   "cell_type": "code",
   "execution_count": 31,
   "id": "9dde9e53",
   "metadata": {},
   "outputs": [],
   "source": [
    "df.loc[(df['cgp'] >100 ),'cgp']=mean"
   ]
  },
  {
   "cell_type": "code",
   "execution_count": 32,
   "id": "328fc526",
   "metadata": {},
   "outputs": [],
   "source": [
    "df.loc[(df['cgp'] <35 )& (df['cgp'] >10 ),'cgp']=mean"
   ]
  },
  {
   "cell_type": "code",
   "execution_count": 33,
   "id": "ef6e6767",
   "metadata": {},
   "outputs": [],
   "source": [
    "df.loc[(df['cgp'] <10 ),'cgp']=df['cgp']*100"
   ]
  },
  {
   "cell_type": "code",
   "execution_count": 34,
   "id": "3a7e9937",
   "metadata": {},
   "outputs": [],
   "source": [
    "df.loc[(df['cgp'] == 0 ),'cgp']=35"
   ]
  },
  {
   "cell_type": "code",
   "execution_count": 35,
   "id": "02b72703",
   "metadata": {},
   "outputs": [
    {
     "data": {
      "text/html": [
       "<div>\n",
       "<style scoped>\n",
       "    .dataframe tbody tr th:only-of-type {\n",
       "        vertical-align: middle;\n",
       "    }\n",
       "\n",
       "    .dataframe tbody tr th {\n",
       "        vertical-align: top;\n",
       "    }\n",
       "\n",
       "    .dataframe thead th {\n",
       "        text-align: right;\n",
       "    }\n",
       "</style>\n",
       "<table border=\"1\" class=\"dataframe\">\n",
       "  <thead>\n",
       "    <tr style=\"text-align: right;\">\n",
       "      <th></th>\n",
       "      <th>column_name</th>\n",
       "      <th>mean</th>\n",
       "      <th>median</th>\n",
       "      <th>mode</th>\n",
       "      <th>standard deviation</th>\n",
       "      <th>variance</th>\n",
       "      <th>skewness</th>\n",
       "      <th>kurtosis</th>\n",
       "    </tr>\n",
       "  </thead>\n",
       "  <tbody>\n",
       "    <tr>\n",
       "      <th>0</th>\n",
       "      <td>Percentage</td>\n",
       "      <td>71.346861</td>\n",
       "      <td>71.0</td>\n",
       "      <td>0    76.0\n",
       "Name: cgp, dtype: float64</td>\n",
       "      <td>9.034011</td>\n",
       "      <td>81.613359</td>\n",
       "      <td>-0.178892</td>\n",
       "      <td>0.239494</td>\n",
       "    </tr>\n",
       "  </tbody>\n",
       "</table>\n",
       "</div>"
      ],
      "text/plain": [
       "  column_name        mean  median                                 mode  \\\n",
       "0   Percentage  71.346861    71.0  0    76.0\n",
       "Name: cgp, dtype: float64   \n",
       "\n",
       "   standard deviation   variance  skewness  kurtosis  \n",
       "0            9.034011  81.613359 -0.178892  0.239494  "
      ]
     },
     "execution_count": 35,
     "metadata": {},
     "output_type": "execute_result"
    }
   ],
   "source": [
    "EDA ={\"column_name \": \"Percentage\",\n",
    "      \"mean\": df.cgp.mean(),\n",
    "      \"median\":df.cgp.median(),\n",
    "      \"mode\":df.cgp.mode(),\n",
    "      \"standard deviation\": df.cgp.std(),\n",
    "      \"variance\":df.cgp.var(),\n",
    "      \"skewness\":df.cgp.skew(),\n",
    "      \"kurtosis\":df.cgp.kurt()}\n",
    "\n",
    "pd.DataFrame([EDA])\n"
   ]
  },
  {
   "cell_type": "code",
   "execution_count": 36,
   "id": "6b31d504",
   "metadata": {},
   "outputs": [],
   "source": [
    "import tkinter\n",
    "import matplotlib\n",
    "import matplotlib.pyplot as plt\n",
    "#matplotlib.use('TkAgg')\n",
    "import numpy as np\n",
    "import seaborn as sns"
   ]
  },
  {
   "cell_type": "code",
   "execution_count": 37,
   "id": "d6eec0d7",
   "metadata": {
    "scrolled": true
   },
   "outputs": [
    {
     "data": {
      "image/png": "[encoded data removed]",
      "text/plain": [
       "<Figure size 640x480 with 1 Axes>"
      ]
     },
     "metadata": {},
     "output_type": "display_data"
    }
   ],
   "source": [
    "hist = df.hist()\n",
    "plt.show()"
   ]
  },
  {
   "cell_type": "code",
   "execution_count": 38,
   "id": "4701e2b8",
   "metadata": {},
   "outputs": [
    {
     "data": {
      "image/png": "[encoded data removed]",
      "text/plain": [
       "<Figure size 640x480 with 1 Axes>"
      ]
     },
     "metadata": {},
     "output_type": "display_data"
    }
   ],
   "source": [
    "# box plot\n",
    "plt.boxplot(df.cgp)\n",
    "plt.show()"
   ]
  },
  {
   "cell_type": "code",
   "execution_count": 39,
   "id": "f09a8358",
   "metadata": {},
   "outputs": [
    {
     "data": {
      "image/png": "[encoded data removed]",
      "text/plain": [
       "<Figure size 640x480 with 1 Axes>"
      ]
     },
     "metadata": {},
     "output_type": "display_data"
    }
   ],
   "source": [
    "df.plot(kind='line',color='green',title='line plot')\n",
    "plt.show()"
   ]
  },
  {
   "cell_type": "code",
   "execution_count": 40,
   "id": "fa5df135",
   "metadata": {},
   "outputs": [
    {
     "data": {
      "image/png": "[encoded data removed]",
      "text/plain": [
       "<Figure size 640x480 with 1 Axes>"
      ]
     },
     "metadata": {},
     "output_type": "display_data"
    }
   ],
   "source": [
    "df.cgp.plot(kind='bar')\n",
    "plt.show()"
   ]
  },
  {
   "cell_type": "code",
   "execution_count": 41,
   "id": "032e6484",
   "metadata": {},
   "outputs": [
    {
     "name": "stderr",
     "output_type": "stream",
     "text": [
      "C:\\Users\\mma\\anaconda3\\lib\\site-packages\\seaborn\\distributions.py:2619: FutureWarning: `distplot` is a deprecated function and will be removed in a future version. Please adapt your code to use either `displot` (a figure-level function with similar flexibility) or `histplot` (an axes-level function for histograms).\n",
      "  warnings.warn(msg, FutureWarning)\n"
     ]
    },
    {
     "data": {
      "image/png": "[encoded data removed]",
      "text/plain": [
       "<Figure size 640x480 with 1 Axes>"
      ]
     },
     "metadata": {},
     "output_type": "display_data"
    }
   ],
   "source": [
    "sns.distplot(df.cgp)\n",
    "plt.show()"
   ]
  },
  {
   "cell_type": "code",
   "execution_count": 42,
   "id": "bcd2ee47",
   "metadata": {},
   "outputs": [
    {
     "name": "stderr",
     "output_type": "stream",
     "text": [
      "C:\\Users\\mma\\anaconda3\\lib\\site-packages\\seaborn\\_decorators.py:36: FutureWarning: Pass the following variable as a keyword arg: x. From version 0.12, the only valid positional argument will be `data`, and passing other arguments without an explicit keyword will result in an error or misinterpretation.\n",
      "  warnings.warn(\n"
     ]
    },
    {
     "data": {
      "image/png": "[encoded data removed]",
      "text/plain": [
       "<Figure size 640x480 with 1 Axes>"
      ]
     },
     "metadata": {},
     "output_type": "display_data"
    }
   ],
   "source": [
    "sns.boxplot(df.cgp)\n",
    "plt.show()"
   ]
  },
  {
   "cell_type": "code",
   "execution_count": 43,
   "id": "205f0f9e",
   "metadata": {},
   "outputs": [],
   "source": [
    "# since it is marks, no requirmennt of doing outlier analysis"
   ]
  },
  {
   "cell_type": "code",
   "execution_count": 44,
   "id": "2096a899",
   "metadata": {},
   "outputs": [
    {
     "name": "stderr",
     "output_type": "stream",
     "text": [
      "C:\\Users\\mma\\anaconda3\\lib\\site-packages\\seaborn\\_decorators.py:36: FutureWarning: Pass the following variable as a keyword arg: x. From version 0.12, the only valid positional argument will be `data`, and passing other arguments without an explicit keyword will result in an error or misinterpretation.\n",
      "  warnings.warn(\n"
     ]
    },
    {
     "data": {
      "image/png": "[encoded data removed]",
      "text/plain": [
       "<Figure size 1600x800 with 1 Axes>"
      ]
     },
     "metadata": {},
     "output_type": "display_data"
    }
   ],
   "source": [
    "# Countplot\n",
    "plt.figure(1, figsize=(16, 8))\n",
    "sns.countplot(df['cgp'])\n",
    "plt.show()"
   ]
  },
  {
   "cell_type": "code",
   "execution_count": 46,
   "id": "580c6248",
   "metadata": {},
   "outputs": [],
   "source": [
    "from statsmodels.graphics.gofplots import qqplot\n",
    "from scipy import stats"
   ]
  },
  {
   "cell_type": "code",
   "execution_count": 47,
   "id": "84cae290",
   "metadata": {},
   "outputs": [
    {
     "data": {
      "image/png": "[encoded data removed]",
      "text/plain": [
       "<Figure size 640x480 with 1 Axes>"
      ]
     },
     "metadata": {},
     "output_type": "display_data"
    }
   ],
   "source": [
    "qqplot_data = qqplot(df.cgp, line='s').gca().lines\n",
    "plt.show()"
   ]
  },
  {
   "cell_type": "code",
   "execution_count": 48,
   "id": "b9c2f4ed",
   "metadata": {},
   "outputs": [],
   "source": [
    "#\"Are you working?\" by this we can filter into working people and students."
   ]
  },
  {
   "cell_type": "code",
   "execution_count": 49,
   "id": "1e69ecf7",
   "metadata": {},
   "outputs": [
    {
     "data": {
      "text/plain": [
       "array(['Yes', 'No'], dtype=object)"
      ]
     },
     "execution_count": 49,
     "metadata": {},
     "output_type": "execute_result"
    }
   ],
   "source": [
    "df.wrk.unique()"
   ]
  },
  {
   "cell_type": "code",
   "execution_count": 50,
   "id": "5653abcc",
   "metadata": {},
   "outputs": [
    {
     "data": {
      "text/plain": [
       "(1195, 11)"
      ]
     },
     "execution_count": 50,
     "metadata": {},
     "output_type": "execute_result"
    }
   ],
   "source": [
    "df.shape"
   ]
  },
  {
   "cell_type": "code",
   "execution_count": 51,
   "id": "46b59904",
   "metadata": {},
   "outputs": [
    {
     "data": {
      "text/plain": [
       "Index(['gr', 'ug', 'ugsp', 'irt', 'ski', 'cgp', 'cert', 'certc', 'wrk', 'job',\n",
       "       'mas'],\n",
       "      dtype='object')"
      ]
     },
     "execution_count": 51,
     "metadata": {},
     "output_type": "execute_result"
    }
   ],
   "source": [
    "df.columns"
   ]
  },
  {
   "cell_type": "code",
   "execution_count": 52,
   "id": "433279cf",
   "metadata": {},
   "outputs": [],
   "source": [
    "df4=df.iloc[:,[1,2,3,4,9,10]] "
   ]
  },
  {
   "cell_type": "code",
   "execution_count": 53,
   "id": "d1fc302e",
   "metadata": {},
   "outputs": [],
   "source": [
    "df3=df4.copy()"
   ]
  },
  {
   "cell_type": "code",
   "execution_count": 54,
   "id": "e1135089",
   "metadata": {},
   "outputs": [
    {
     "data": {
      "text/html": [
       "<div>\n",
       "<style scoped>\n",
       "    .dataframe tbody tr th:only-of-type {\n",
       "        vertical-align: middle;\n",
       "    }\n",
       "\n",
       "    .dataframe tbody tr th {\n",
       "        vertical-align: top;\n",
       "    }\n",
       "\n",
       "    .dataframe thead th {\n",
       "        text-align: right;\n",
       "    }\n",
       "</style>\n",
       "<table border=\"1\" class=\"dataframe\">\n",
       "  <thead>\n",
       "    <tr style=\"text-align: right;\">\n",
       "      <th></th>\n",
       "      <th>ug</th>\n",
       "      <th>ugsp</th>\n",
       "      <th>irt</th>\n",
       "      <th>ski</th>\n",
       "      <th>job</th>\n",
       "      <th>mas</th>\n",
       "    </tr>\n",
       "  </thead>\n",
       "  <tbody>\n",
       "    <tr>\n",
       "      <th>0</th>\n",
       "      <td>B.Sc</td>\n",
       "      <td>Computer Applications</td>\n",
       "      <td>Cloud computing</td>\n",
       "      <td>Python;SQL;Java</td>\n",
       "      <td>Software</td>\n",
       "      <td>MCA</td>\n",
       "    </tr>\n",
       "    <tr>\n",
       "      <th>1</th>\n",
       "      <td>B.E</td>\n",
       "      <td>Computer Science Engineering</td>\n",
       "      <td>Technology</td>\n",
       "      <td>Critical Thinking, Analytic Thinking, SQL, Pro...</td>\n",
       "      <td>Computer Software Engineer</td>\n",
       "      <td></td>\n",
       "    </tr>\n",
       "    <tr>\n",
       "      <th>2</th>\n",
       "      <td>BA</td>\n",
       "      <td>Psychology</td>\n",
       "      <td>Understand human behaviour</td>\n",
       "      <td>People management;Communication skills</td>\n",
       "      <td></td>\n",
       "      <td></td>\n",
       "    </tr>\n",
       "    <tr>\n",
       "      <th>3</th>\n",
       "      <td>BBA</td>\n",
       "      <td>Commerce</td>\n",
       "      <td>Sales/Marketing;Trading;Understand human behav...</td>\n",
       "      <td>Accounting Skills;Critical Thinking</td>\n",
       "      <td>Relationships manager</td>\n",
       "      <td></td>\n",
       "    </tr>\n",
       "    <tr>\n",
       "      <th>4</th>\n",
       "      <td>B.Tech</td>\n",
       "      <td>Instrumentation Engineering</td>\n",
       "      <td>Technology</td>\n",
       "      <td>\\nPLC Allen Bradley;PLC Ladder Logic;LabVIEW;B...</td>\n",
       "      <td>Plant Instrumentation Engineer</td>\n",
       "      <td></td>\n",
       "    </tr>\n",
       "    <tr>\n",
       "      <th>...</th>\n",
       "      <td>...</td>\n",
       "      <td>...</td>\n",
       "      <td>...</td>\n",
       "      <td>...</td>\n",
       "      <td>...</td>\n",
       "      <td>...</td>\n",
       "    </tr>\n",
       "    <tr>\n",
       "      <th>1190</th>\n",
       "      <td>B.Tech</td>\n",
       "      <td>Electronics and Communication Engineering</td>\n",
       "      <td>Technology</td>\n",
       "      <td>Python, SQL, Oracle</td>\n",
       "      <td>Data Engineer</td>\n",
       "      <td>Masters in Computer Science</td>\n",
       "    </tr>\n",
       "    <tr>\n",
       "      <th>1191</th>\n",
       "      <td>B.Sc</td>\n",
       "      <td>Computer Science Engineering</td>\n",
       "      <td>Technology</td>\n",
       "      <td>SQL, Problem Solving skills</td>\n",
       "      <td>Nothing</td>\n",
       "      <td>Masters in Computer Science</td>\n",
       "    </tr>\n",
       "    <tr>\n",
       "      <th>1192</th>\n",
       "      <td>B.Tech</td>\n",
       "      <td>Animation &amp; Visual Effects</td>\n",
       "      <td>Technology;Content Writing</td>\n",
       "      <td>Programming Language skills;Critical Thinking;...</td>\n",
       "      <td>Hr Assistant II</td>\n",
       "      <td></td>\n",
       "    </tr>\n",
       "    <tr>\n",
       "      <th>1193</th>\n",
       "      <td>BE</td>\n",
       "      <td>Computer Science</td>\n",
       "      <td>Financial Analysis, Technology</td>\n",
       "      <td>AI, Java, SQL, C++, R, Linux</td>\n",
       "      <td>Student (Unemployed)</td>\n",
       "      <td>Masters in Computer Applications</td>\n",
       "    </tr>\n",
       "    <tr>\n",
       "      <th>1194</th>\n",
       "      <td>B.Sc</td>\n",
       "      <td>Animation &amp; Visual Effects</td>\n",
       "      <td>Animation</td>\n",
       "      <td>2D/3D Animation</td>\n",
       "      <td>VFX Production Assistant</td>\n",
       "      <td></td>\n",
       "    </tr>\n",
       "  </tbody>\n",
       "</table>\n",
       "<p>1195 rows × 6 columns</p>\n",
       "</div>"
      ],
      "text/plain": [
       "          ug                                       ugsp  \\\n",
       "0       B.Sc                      Computer Applications   \n",
       "1        B.E               Computer Science Engineering   \n",
       "2         BA                                 Psychology   \n",
       "3        BBA                                   Commerce   \n",
       "4     B.Tech                Instrumentation Engineering   \n",
       "...      ...                                        ...   \n",
       "1190  B.Tech  Electronics and Communication Engineering   \n",
       "1191    B.Sc               Computer Science Engineering   \n",
       "1192  B.Tech                 Animation & Visual Effects   \n",
       "1193      BE                           Computer Science   \n",
       "1194    B.Sc                 Animation & Visual Effects   \n",
       "\n",
       "                                                    irt  \\\n",
       "0                                       Cloud computing   \n",
       "1                                            Technology   \n",
       "2                            Understand human behaviour   \n",
       "3     Sales/Marketing;Trading;Understand human behav...   \n",
       "4                                            Technology   \n",
       "...                                                 ...   \n",
       "1190                                         Technology   \n",
       "1191                                         Technology   \n",
       "1192                         Technology;Content Writing   \n",
       "1193                     Financial Analysis, Technology   \n",
       "1194                                          Animation   \n",
       "\n",
       "                                                    ski  \\\n",
       "0                                       Python;SQL;Java   \n",
       "1     Critical Thinking, Analytic Thinking, SQL, Pro...   \n",
       "2                People management;Communication skills   \n",
       "3                   Accounting Skills;Critical Thinking   \n",
       "4     \\nPLC Allen Bradley;PLC Ladder Logic;LabVIEW;B...   \n",
       "...                                                 ...   \n",
       "1190                                Python, SQL, Oracle   \n",
       "1191                        SQL, Problem Solving skills   \n",
       "1192  Programming Language skills;Critical Thinking;...   \n",
       "1193                       AI, Java, SQL, C++, R, Linux   \n",
       "1194                                    2D/3D Animation   \n",
       "\n",
       "                                 job                               mas  \n",
       "0                           Software                               MCA  \n",
       "1         Computer Software Engineer                                    \n",
       "2                                                                       \n",
       "3              Relationships manager                                    \n",
       "4     Plant Instrumentation Engineer                                    \n",
       "...                              ...                               ...  \n",
       "1190                   Data Engineer       Masters in Computer Science  \n",
       "1191                         Nothing       Masters in Computer Science  \n",
       "1192                 Hr Assistant II                                    \n",
       "1193            Student (Unemployed)  Masters in Computer Applications  \n",
       "1194        VFX Production Assistant                                    \n",
       "\n",
       "[1195 rows x 6 columns]"
      ]
     },
     "execution_count": 54,
     "metadata": {},
     "output_type": "execute_result"
    }
   ],
   "source": [
    "df3"
   ]
  },
  {
   "cell_type": "code",
   "execution_count": 55,
   "id": "98541689",
   "metadata": {},
   "outputs": [],
   "source": [
    "dfj=df.loc[df.wrk =='Yes'].iloc[:,[1,2,3,4,9]]"
   ]
  },
  {
   "cell_type": "code",
   "execution_count": 56,
   "id": "ecc18c32",
   "metadata": {},
   "outputs": [
    {
     "data": {
      "text/html": [
       "<div>\n",
       "<style scoped>\n",
       "    .dataframe tbody tr th:only-of-type {\n",
       "        vertical-align: middle;\n",
       "    }\n",
       "\n",
       "    .dataframe tbody tr th {\n",
       "        vertical-align: top;\n",
       "    }\n",
       "\n",
       "    .dataframe thead th {\n",
       "        text-align: right;\n",
       "    }\n",
       "</style>\n",
       "<table border=\"1\" class=\"dataframe\">\n",
       "  <thead>\n",
       "    <tr style=\"text-align: right;\">\n",
       "      <th></th>\n",
       "      <th>ug</th>\n",
       "      <th>ugsp</th>\n",
       "      <th>irt</th>\n",
       "      <th>ski</th>\n",
       "      <th>job</th>\n",
       "    </tr>\n",
       "  </thead>\n",
       "  <tbody>\n",
       "    <tr>\n",
       "      <th>0</th>\n",
       "      <td>B.Sc</td>\n",
       "      <td>Computer Applications</td>\n",
       "      <td>Cloud computing</td>\n",
       "      <td>Python;SQL;Java</td>\n",
       "      <td>Software</td>\n",
       "    </tr>\n",
       "    <tr>\n",
       "      <th>1</th>\n",
       "      <td>B.E</td>\n",
       "      <td>Computer Science Engineering</td>\n",
       "      <td>Technology</td>\n",
       "      <td>Critical Thinking, Analytic Thinking, SQL, Pro...</td>\n",
       "      <td>Computer Software Engineer</td>\n",
       "    </tr>\n",
       "    <tr>\n",
       "      <th>3</th>\n",
       "      <td>BBA</td>\n",
       "      <td>Commerce</td>\n",
       "      <td>Sales/Marketing;Trading;Understand human behav...</td>\n",
       "      <td>Accounting Skills;Critical Thinking</td>\n",
       "      <td>Relationships manager</td>\n",
       "    </tr>\n",
       "    <tr>\n",
       "      <th>4</th>\n",
       "      <td>B.Tech</td>\n",
       "      <td>Instrumentation Engineering</td>\n",
       "      <td>Technology</td>\n",
       "      <td>\\nPLC Allen Bradley;PLC Ladder Logic;LabVIEW;B...</td>\n",
       "      <td>Plant Instrumentation Engineer</td>\n",
       "    </tr>\n",
       "    <tr>\n",
       "      <th>5</th>\n",
       "      <td>B.Tech</td>\n",
       "      <td>Computer Science Engineering</td>\n",
       "      <td>Technology</td>\n",
       "      <td>C,C++,HTML,Java</td>\n",
       "      <td>Network analyst</td>\n",
       "    </tr>\n",
       "    <tr>\n",
       "      <th>...</th>\n",
       "      <td>...</td>\n",
       "      <td>...</td>\n",
       "      <td>...</td>\n",
       "      <td>...</td>\n",
       "      <td>...</td>\n",
       "    </tr>\n",
       "    <tr>\n",
       "      <th>1188</th>\n",
       "      <td>B.Tech</td>\n",
       "      <td>Electrical and Electronics Engineering</td>\n",
       "      <td>Product Life cycle Management</td>\n",
       "      <td>\\nProduct Management;User Experience (UX);Prod...</td>\n",
       "      <td>Product Specialist</td>\n",
       "    </tr>\n",
       "    <tr>\n",
       "      <th>1189</th>\n",
       "      <td>B.Sc</td>\n",
       "      <td>computer science engineering</td>\n",
       "      <td>Technology</td>\n",
       "      <td>Communication skills;Data Visualization skills...</td>\n",
       "      <td>MIS</td>\n",
       "    </tr>\n",
       "    <tr>\n",
       "      <th>1190</th>\n",
       "      <td>B.Tech</td>\n",
       "      <td>Electronics and Communication Engineering</td>\n",
       "      <td>Technology</td>\n",
       "      <td>Python, SQL, Oracle</td>\n",
       "      <td>Data Engineer</td>\n",
       "    </tr>\n",
       "    <tr>\n",
       "      <th>1192</th>\n",
       "      <td>B.Tech</td>\n",
       "      <td>Animation &amp; Visual Effects</td>\n",
       "      <td>Technology;Content Writing</td>\n",
       "      <td>Programming Language skills;Critical Thinking;...</td>\n",
       "      <td>Hr Assistant II</td>\n",
       "    </tr>\n",
       "    <tr>\n",
       "      <th>1194</th>\n",
       "      <td>B.Sc</td>\n",
       "      <td>Animation &amp; Visual Effects</td>\n",
       "      <td>Animation</td>\n",
       "      <td>2D/3D Animation</td>\n",
       "      <td>VFX Production Assistant</td>\n",
       "    </tr>\n",
       "  </tbody>\n",
       "</table>\n",
       "<p>713 rows × 5 columns</p>\n",
       "</div>"
      ],
      "text/plain": [
       "          ug                                       ugsp  \\\n",
       "0       B.Sc                      Computer Applications   \n",
       "1        B.E               Computer Science Engineering   \n",
       "3        BBA                                   Commerce   \n",
       "4     B.Tech                Instrumentation Engineering   \n",
       "5     B.Tech               Computer Science Engineering   \n",
       "...      ...                                        ...   \n",
       "1188  B.Tech     Electrical and Electronics Engineering   \n",
       "1189    B.Sc               computer science engineering   \n",
       "1190  B.Tech  Electronics and Communication Engineering   \n",
       "1192  B.Tech                 Animation & Visual Effects   \n",
       "1194    B.Sc                 Animation & Visual Effects   \n",
       "\n",
       "                                                    irt  \\\n",
       "0                                       Cloud computing   \n",
       "1                                            Technology   \n",
       "3     Sales/Marketing;Trading;Understand human behav...   \n",
       "4                                            Technology   \n",
       "5                                            Technology   \n",
       "...                                                 ...   \n",
       "1188                      Product Life cycle Management   \n",
       "1189                                         Technology   \n",
       "1190                                         Technology   \n",
       "1192                         Technology;Content Writing   \n",
       "1194                                          Animation   \n",
       "\n",
       "                                                    ski  \\\n",
       "0                                       Python;SQL;Java   \n",
       "1     Critical Thinking, Analytic Thinking, SQL, Pro...   \n",
       "3                   Accounting Skills;Critical Thinking   \n",
       "4     \\nPLC Allen Bradley;PLC Ladder Logic;LabVIEW;B...   \n",
       "5                                       C,C++,HTML,Java   \n",
       "...                                                 ...   \n",
       "1188  \\nProduct Management;User Experience (UX);Prod...   \n",
       "1189  Communication skills;Data Visualization skills...   \n",
       "1190                                Python, SQL, Oracle   \n",
       "1192  Programming Language skills;Critical Thinking;...   \n",
       "1194                                    2D/3D Animation   \n",
       "\n",
       "                                 job  \n",
       "0                           Software  \n",
       "1         Computer Software Engineer  \n",
       "3              Relationships manager  \n",
       "4     Plant Instrumentation Engineer  \n",
       "5                    Network analyst  \n",
       "...                              ...  \n",
       "1188              Product Specialist  \n",
       "1189                             MIS  \n",
       "1190                   Data Engineer  \n",
       "1192                 Hr Assistant II  \n",
       "1194        VFX Production Assistant  \n",
       "\n",
       "[713 rows x 5 columns]"
      ]
     },
     "execution_count": 56,
     "metadata": {},
     "output_type": "execute_result"
    }
   ],
   "source": [
    "dfj"
   ]
  },
  {
   "cell_type": "code",
   "execution_count": 57,
   "id": "7911f24f",
   "metadata": {},
   "outputs": [
    {
     "data": {
      "text/plain": [
       "ug      0\n",
       "ugsp    0\n",
       "irt     0\n",
       "ski     0\n",
       "job     0\n",
       "dtype: int64"
      ]
     },
     "execution_count": 57,
     "metadata": {},
     "output_type": "execute_result"
    }
   ],
   "source": [
    " dfj.isnull().sum()"
   ]
  },
  {
   "cell_type": "code",
   "execution_count": 60,
   "id": "84bd5975",
   "metadata": {},
   "outputs": [],
   "source": [
    "dfj.to_csv(r'df_job_data_set_for_imputy.csv')"
   ]
  },
  {
   "cell_type": "code",
   "execution_count": 61,
   "id": "7bfdfa7b",
   "metadata": {},
   "outputs": [],
   "source": [
    "dfj = pd.read_excel(r'df_job_data_set_for_impute_to.xlsx')"
   ]
  },
  {
   "cell_type": "code",
   "execution_count": 62,
   "id": "852f5c1f",
   "metadata": {},
   "outputs": [
    {
     "data": {
      "text/plain": [
       "Index(['Unnamed: 0', 'gr', 'ug', 'ugsp', 'irt', 'ski', 'cgp', 'cert', 'certc',\n",
       "       'job'],\n",
       "      dtype='object')"
      ]
     },
     "execution_count": 62,
     "metadata": {},
     "output_type": "execute_result"
    }
   ],
   "source": [
    "dfj.columns"
   ]
  },
  {
   "cell_type": "code",
   "execution_count": 63,
   "id": "4eb238b6",
   "metadata": {},
   "outputs": [],
   "source": [
    "dfjcopy=dfj.iloc[:,[2,3,4,5,9]]"
   ]
  },
  {
   "cell_type": "code",
   "execution_count": 64,
   "id": "bf2d7e6f",
   "metadata": {},
   "outputs": [],
   "source": [
    "dfj.rename(columns = {'Unnamed: 0':'index'}, inplace = True)\n"
   ]
  },
  {
   "cell_type": "code",
   "execution_count": 65,
   "id": "6d16c4b5",
   "metadata": {},
   "outputs": [
    {
     "data": {
      "text/html": [
       "<div>\n",
       "<style scoped>\n",
       "    .dataframe tbody tr th:only-of-type {\n",
       "        vertical-align: middle;\n",
       "    }\n",
       "\n",
       "    .dataframe tbody tr th {\n",
       "        vertical-align: top;\n",
       "    }\n",
       "\n",
       "    .dataframe thead th {\n",
       "        text-align: right;\n",
       "    }\n",
       "</style>\n",
       "<table border=\"1\" class=\"dataframe\">\n",
       "  <thead>\n",
       "    <tr style=\"text-align: right;\">\n",
       "      <th></th>\n",
       "      <th>index</th>\n",
       "      <th>gr</th>\n",
       "      <th>ug</th>\n",
       "      <th>ugsp</th>\n",
       "      <th>irt</th>\n",
       "      <th>ski</th>\n",
       "      <th>cgp</th>\n",
       "      <th>cert</th>\n",
       "      <th>certc</th>\n",
       "      <th>job</th>\n",
       "    </tr>\n",
       "  </thead>\n",
       "  <tbody>\n",
       "    <tr>\n",
       "      <th>0</th>\n",
       "      <td>0</td>\n",
       "      <td>Female</td>\n",
       "      <td>B.Sc</td>\n",
       "      <td>Computer Applications</td>\n",
       "      <td>Cloud computing</td>\n",
       "      <td>Python;SQL;Java</td>\n",
       "      <td>0.793651</td>\n",
       "      <td>1</td>\n",
       "      <td>Linux,Git</td>\n",
       "      <td>Software engineer</td>\n",
       "    </tr>\n",
       "    <tr>\n",
       "      <th>1</th>\n",
       "      <td>1</td>\n",
       "      <td>Male</td>\n",
       "      <td>B.E</td>\n",
       "      <td>Computer Science Engineering</td>\n",
       "      <td>Technology</td>\n",
       "      <td>Critical Thinking, Analytic Thinking, SQL, Pro...</td>\n",
       "      <td>0.492063</td>\n",
       "      <td>1</td>\n",
       "      <td>Microsoft certificationÂ</td>\n",
       "      <td>Computer Software Engineer</td>\n",
       "    </tr>\n",
       "    <tr>\n",
       "      <th>2</th>\n",
       "      <td>3</td>\n",
       "      <td>Female</td>\n",
       "      <td>BBA</td>\n",
       "      <td>Commerce</td>\n",
       "      <td>Sales/Marketing;Trading;Understand human behav...</td>\n",
       "      <td>Accounting Skills;Critical Thinking</td>\n",
       "      <td>0.634921</td>\n",
       "      <td>0</td>\n",
       "      <td>No</td>\n",
       "      <td>Relationships manager</td>\n",
       "    </tr>\n",
       "    <tr>\n",
       "      <th>3</th>\n",
       "      <td>4</td>\n",
       "      <td>Female</td>\n",
       "      <td>B.Tech</td>\n",
       "      <td>Instrumentation Engineering</td>\n",
       "      <td>Technology</td>\n",
       "      <td>\\nPLC Allen Bradley;PLC Ladder Logic;LabVIEW;B...</td>\n",
       "      <td>0.555556</td>\n",
       "      <td>1</td>\n",
       "      <td>Extreme Productivity (Blinkist Summary)</td>\n",
       "      <td>Plant Instrumentation Engineer</td>\n",
       "    </tr>\n",
       "    <tr>\n",
       "      <th>4</th>\n",
       "      <td>5</td>\n",
       "      <td>Female</td>\n",
       "      <td>B.Tech</td>\n",
       "      <td>Computer Science Engineering</td>\n",
       "      <td>Technology</td>\n",
       "      <td>C,C++,HTML,Java</td>\n",
       "      <td>0.603175</td>\n",
       "      <td>1</td>\n",
       "      <td>C,C++,HTML,Java</td>\n",
       "      <td>Network analyst</td>\n",
       "    </tr>\n",
       "    <tr>\n",
       "      <th>...</th>\n",
       "      <td>...</td>\n",
       "      <td>...</td>\n",
       "      <td>...</td>\n",
       "      <td>...</td>\n",
       "      <td>...</td>\n",
       "      <td>...</td>\n",
       "      <td>...</td>\n",
       "      <td>...</td>\n",
       "      <td>...</td>\n",
       "      <td>...</td>\n",
       "    </tr>\n",
       "    <tr>\n",
       "      <th>708</th>\n",
       "      <td>1188</td>\n",
       "      <td>Male</td>\n",
       "      <td>B.Tech</td>\n",
       "      <td>Electrical and Electronics Engineering</td>\n",
       "      <td>Product Life cycle Management</td>\n",
       "      <td>\\nProduct Management;User Experience (UX);Prod...</td>\n",
       "      <td>0.603175</td>\n",
       "      <td>1</td>\n",
       "      <td>\\nProduct Management</td>\n",
       "      <td>Product Specialist</td>\n",
       "    </tr>\n",
       "    <tr>\n",
       "      <th>709</th>\n",
       "      <td>1189</td>\n",
       "      <td>Male</td>\n",
       "      <td>B.Sc</td>\n",
       "      <td>computer science engineering</td>\n",
       "      <td>Technology</td>\n",
       "      <td>Communication skills;Data Visualization skills...</td>\n",
       "      <td>0.507937</td>\n",
       "      <td>0</td>\n",
       "      <td>No</td>\n",
       "      <td>DATA SCIENTIST</td>\n",
       "    </tr>\n",
       "    <tr>\n",
       "      <th>710</th>\n",
       "      <td>1190</td>\n",
       "      <td>Male</td>\n",
       "      <td>B.Tech</td>\n",
       "      <td>Electronics and Communication Engineering</td>\n",
       "      <td>Technology</td>\n",
       "      <td>Python, SQL, Oracle</td>\n",
       "      <td>0.587302</td>\n",
       "      <td>0</td>\n",
       "      <td>AWS cloud practitionerÂ</td>\n",
       "      <td>Data Engineer</td>\n",
       "    </tr>\n",
       "    <tr>\n",
       "      <th>711</th>\n",
       "      <td>1192</td>\n",
       "      <td>Male</td>\n",
       "      <td>B.Tech</td>\n",
       "      <td>Animation &amp; Visual Effects</td>\n",
       "      <td>Technology;Content Writing</td>\n",
       "      <td>Programming Language skills;Critical Thinking;...</td>\n",
       "      <td>0.380952</td>\n",
       "      <td>1</td>\n",
       "      <td>Sql, Python,tableau,data science</td>\n",
       "      <td>Hr Assistant II</td>\n",
       "    </tr>\n",
       "    <tr>\n",
       "      <th>712</th>\n",
       "      <td>1194</td>\n",
       "      <td>Male</td>\n",
       "      <td>B.Sc</td>\n",
       "      <td>Animation &amp; Visual Effects</td>\n",
       "      <td>Animation</td>\n",
       "      <td>2D/3D Animation</td>\n",
       "      <td>0.650794</td>\n",
       "      <td>1</td>\n",
       "      <td>3D Animation</td>\n",
       "      <td>VFX Production Assistant</td>\n",
       "    </tr>\n",
       "  </tbody>\n",
       "</table>\n",
       "<p>713 rows × 10 columns</p>\n",
       "</div>"
      ],
      "text/plain": [
       "     index      gr      ug                                       ugsp  \\\n",
       "0        0  Female    B.Sc                      Computer Applications   \n",
       "1        1    Male     B.E               Computer Science Engineering   \n",
       "2        3  Female     BBA                                   Commerce   \n",
       "3        4  Female  B.Tech                Instrumentation Engineering   \n",
       "4        5  Female  B.Tech               Computer Science Engineering   \n",
       "..     ...     ...     ...                                        ...   \n",
       "708   1188    Male  B.Tech     Electrical and Electronics Engineering   \n",
       "709   1189    Male    B.Sc               computer science engineering   \n",
       "710   1190    Male  B.Tech  Electronics and Communication Engineering   \n",
       "711   1192    Male  B.Tech                 Animation & Visual Effects   \n",
       "712   1194    Male    B.Sc                 Animation & Visual Effects   \n",
       "\n",
       "                                                   irt  \\\n",
       "0                                      Cloud computing   \n",
       "1                                           Technology   \n",
       "2    Sales/Marketing;Trading;Understand human behav...   \n",
       "3                                           Technology   \n",
       "4                                           Technology   \n",
       "..                                                 ...   \n",
       "708                      Product Life cycle Management   \n",
       "709                                         Technology   \n",
       "710                                         Technology   \n",
       "711                         Technology;Content Writing   \n",
       "712                                          Animation   \n",
       "\n",
       "                                                   ski       cgp  cert  \\\n",
       "0                                      Python;SQL;Java  0.793651     1   \n",
       "1    Critical Thinking, Analytic Thinking, SQL, Pro...  0.492063     1   \n",
       "2                  Accounting Skills;Critical Thinking  0.634921     0   \n",
       "3    \\nPLC Allen Bradley;PLC Ladder Logic;LabVIEW;B...  0.555556     1   \n",
       "4                                      C,C++,HTML,Java  0.603175     1   \n",
       "..                                                 ...       ...   ...   \n",
       "708  \\nProduct Management;User Experience (UX);Prod...  0.603175     1   \n",
       "709  Communication skills;Data Visualization skills...  0.507937     0   \n",
       "710                                Python, SQL, Oracle  0.587302     0   \n",
       "711  Programming Language skills;Critical Thinking;...  0.380952     1   \n",
       "712                                    2D/3D Animation  0.650794     1   \n",
       "\n",
       "                                       certc                             job  \n",
       "0                                  Linux,Git               Software engineer  \n",
       "1                  Microsoft certificationÂ       Computer Software Engineer  \n",
       "2                                         No           Relationships manager  \n",
       "3    Extreme Productivity (Blinkist Summary)  Plant Instrumentation Engineer  \n",
       "4                            C,C++,HTML,Java                 Network analyst  \n",
       "..                                       ...                             ...  \n",
       "708                     \\nProduct Management              Product Specialist  \n",
       "709                                       No                  DATA SCIENTIST  \n",
       "710                 AWS cloud practitionerÂ                    Data Engineer  \n",
       "711         Sql, Python,tableau,data science                 Hr Assistant II  \n",
       "712                             3D Animation        VFX Production Assistant  \n",
       "\n",
       "[713 rows x 10 columns]"
      ]
     },
     "execution_count": 65,
     "metadata": {},
     "output_type": "execute_result"
    }
   ],
   "source": [
    "dfj"
   ]
  },
  {
   "cell_type": "code",
   "execution_count": 66,
   "id": "73eaee7d",
   "metadata": {},
   "outputs": [],
   "source": [
    "dfj.set_index(['index'], inplace = True)\n"
   ]
  },
  {
   "cell_type": "code",
   "execution_count": 67,
   "id": "e82d6231",
   "metadata": {},
   "outputs": [
    {
     "data": {
      "text/html": [
       "<div>\n",
       "<style scoped>\n",
       "    .dataframe tbody tr th:only-of-type {\n",
       "        vertical-align: middle;\n",
       "    }\n",
       "\n",
       "    .dataframe tbody tr th {\n",
       "        vertical-align: top;\n",
       "    }\n",
       "\n",
       "    .dataframe thead th {\n",
       "        text-align: right;\n",
       "    }\n",
       "</style>\n",
       "<table border=\"1\" class=\"dataframe\">\n",
       "  <thead>\n",
       "    <tr style=\"text-align: right;\">\n",
       "      <th></th>\n",
       "      <th>gr</th>\n",
       "      <th>ug</th>\n",
       "      <th>ugsp</th>\n",
       "      <th>irt</th>\n",
       "      <th>ski</th>\n",
       "      <th>cgp</th>\n",
       "      <th>cert</th>\n",
       "      <th>certc</th>\n",
       "      <th>job</th>\n",
       "    </tr>\n",
       "    <tr>\n",
       "      <th>index</th>\n",
       "      <th></th>\n",
       "      <th></th>\n",
       "      <th></th>\n",
       "      <th></th>\n",
       "      <th></th>\n",
       "      <th></th>\n",
       "      <th></th>\n",
       "      <th></th>\n",
       "      <th></th>\n",
       "    </tr>\n",
       "  </thead>\n",
       "  <tbody>\n",
       "    <tr>\n",
       "      <th>0</th>\n",
       "      <td>Female</td>\n",
       "      <td>B.Sc</td>\n",
       "      <td>Computer Applications</td>\n",
       "      <td>Cloud computing</td>\n",
       "      <td>Python;SQL;Java</td>\n",
       "      <td>0.793651</td>\n",
       "      <td>1</td>\n",
       "      <td>Linux,Git</td>\n",
       "      <td>Software engineer</td>\n",
       "    </tr>\n",
       "    <tr>\n",
       "      <th>1</th>\n",
       "      <td>Male</td>\n",
       "      <td>B.E</td>\n",
       "      <td>Computer Science Engineering</td>\n",
       "      <td>Technology</td>\n",
       "      <td>Critical Thinking, Analytic Thinking, SQL, Pro...</td>\n",
       "      <td>0.492063</td>\n",
       "      <td>1</td>\n",
       "      <td>Microsoft certificationÂ</td>\n",
       "      <td>Computer Software Engineer</td>\n",
       "    </tr>\n",
       "    <tr>\n",
       "      <th>3</th>\n",
       "      <td>Female</td>\n",
       "      <td>BBA</td>\n",
       "      <td>Commerce</td>\n",
       "      <td>Sales/Marketing;Trading;Understand human behav...</td>\n",
       "      <td>Accounting Skills;Critical Thinking</td>\n",
       "      <td>0.634921</td>\n",
       "      <td>0</td>\n",
       "      <td>No</td>\n",
       "      <td>Relationships manager</td>\n",
       "    </tr>\n",
       "    <tr>\n",
       "      <th>4</th>\n",
       "      <td>Female</td>\n",
       "      <td>B.Tech</td>\n",
       "      <td>Instrumentation Engineering</td>\n",
       "      <td>Technology</td>\n",
       "      <td>\\nPLC Allen Bradley;PLC Ladder Logic;LabVIEW;B...</td>\n",
       "      <td>0.555556</td>\n",
       "      <td>1</td>\n",
       "      <td>Extreme Productivity (Blinkist Summary)</td>\n",
       "      <td>Plant Instrumentation Engineer</td>\n",
       "    </tr>\n",
       "    <tr>\n",
       "      <th>5</th>\n",
       "      <td>Female</td>\n",
       "      <td>B.Tech</td>\n",
       "      <td>Computer Science Engineering</td>\n",
       "      <td>Technology</td>\n",
       "      <td>C,C++,HTML,Java</td>\n",
       "      <td>0.603175</td>\n",
       "      <td>1</td>\n",
       "      <td>C,C++,HTML,Java</td>\n",
       "      <td>Network analyst</td>\n",
       "    </tr>\n",
       "    <tr>\n",
       "      <th>...</th>\n",
       "      <td>...</td>\n",
       "      <td>...</td>\n",
       "      <td>...</td>\n",
       "      <td>...</td>\n",
       "      <td>...</td>\n",
       "      <td>...</td>\n",
       "      <td>...</td>\n",
       "      <td>...</td>\n",
       "      <td>...</td>\n",
       "    </tr>\n",
       "    <tr>\n",
       "      <th>1188</th>\n",
       "      <td>Male</td>\n",
       "      <td>B.Tech</td>\n",
       "      <td>Electrical and Electronics Engineering</td>\n",
       "      <td>Product Life cycle Management</td>\n",
       "      <td>\\nProduct Management;User Experience (UX);Prod...</td>\n",
       "      <td>0.603175</td>\n",
       "      <td>1</td>\n",
       "      <td>\\nProduct Management</td>\n",
       "      <td>Product Specialist</td>\n",
       "    </tr>\n",
       "    <tr>\n",
       "      <th>1189</th>\n",
       "      <td>Male</td>\n",
       "      <td>B.Sc</td>\n",
       "      <td>computer science engineering</td>\n",
       "      <td>Technology</td>\n",
       "      <td>Communication skills;Data Visualization skills...</td>\n",
       "      <td>0.507937</td>\n",
       "      <td>0</td>\n",
       "      <td>No</td>\n",
       "      <td>DATA SCIENTIST</td>\n",
       "    </tr>\n",
       "    <tr>\n",
       "      <th>1190</th>\n",
       "      <td>Male</td>\n",
       "      <td>B.Tech</td>\n",
       "      <td>Electronics and Communication Engineering</td>\n",
       "      <td>Technology</td>\n",
       "      <td>Python, SQL, Oracle</td>\n",
       "      <td>0.587302</td>\n",
       "      <td>0</td>\n",
       "      <td>AWS cloud practitionerÂ</td>\n",
       "      <td>Data Engineer</td>\n",
       "    </tr>\n",
       "    <tr>\n",
       "      <th>1192</th>\n",
       "      <td>Male</td>\n",
       "      <td>B.Tech</td>\n",
       "      <td>Animation &amp; Visual Effects</td>\n",
       "      <td>Technology;Content Writing</td>\n",
       "      <td>Programming Language skills;Critical Thinking;...</td>\n",
       "      <td>0.380952</td>\n",
       "      <td>1</td>\n",
       "      <td>Sql, Python,tableau,data science</td>\n",
       "      <td>Hr Assistant II</td>\n",
       "    </tr>\n",
       "    <tr>\n",
       "      <th>1194</th>\n",
       "      <td>Male</td>\n",
       "      <td>B.Sc</td>\n",
       "      <td>Animation &amp; Visual Effects</td>\n",
       "      <td>Animation</td>\n",
       "      <td>2D/3D Animation</td>\n",
       "      <td>0.650794</td>\n",
       "      <td>1</td>\n",
       "      <td>3D Animation</td>\n",
       "      <td>VFX Production Assistant</td>\n",
       "    </tr>\n",
       "  </tbody>\n",
       "</table>\n",
       "<p>713 rows × 9 columns</p>\n",
       "</div>"
      ],
      "text/plain": [
       "           gr      ug                                       ugsp  \\\n",
       "index                                                              \n",
       "0      Female    B.Sc                      Computer Applications   \n",
       "1        Male     B.E               Computer Science Engineering   \n",
       "3      Female     BBA                                   Commerce   \n",
       "4      Female  B.Tech                Instrumentation Engineering   \n",
       "5      Female  B.Tech               Computer Science Engineering   \n",
       "...       ...     ...                                        ...   \n",
       "1188     Male  B.Tech     Electrical and Electronics Engineering   \n",
       "1189     Male    B.Sc               computer science engineering   \n",
       "1190     Male  B.Tech  Electronics and Communication Engineering   \n",
       "1192     Male  B.Tech                 Animation & Visual Effects   \n",
       "1194     Male    B.Sc                 Animation & Visual Effects   \n",
       "\n",
       "                                                     irt  \\\n",
       "index                                                      \n",
       "0                                        Cloud computing   \n",
       "1                                             Technology   \n",
       "3      Sales/Marketing;Trading;Understand human behav...   \n",
       "4                                             Technology   \n",
       "5                                             Technology   \n",
       "...                                                  ...   \n",
       "1188                       Product Life cycle Management   \n",
       "1189                                          Technology   \n",
       "1190                                          Technology   \n",
       "1192                          Technology;Content Writing   \n",
       "1194                                           Animation   \n",
       "\n",
       "                                                     ski       cgp  cert  \\\n",
       "index                                                                      \n",
       "0                                        Python;SQL;Java  0.793651     1   \n",
       "1      Critical Thinking, Analytic Thinking, SQL, Pro...  0.492063     1   \n",
       "3                    Accounting Skills;Critical Thinking  0.634921     0   \n",
       "4      \\nPLC Allen Bradley;PLC Ladder Logic;LabVIEW;B...  0.555556     1   \n",
       "5                                        C,C++,HTML,Java  0.603175     1   \n",
       "...                                                  ...       ...   ...   \n",
       "1188   \\nProduct Management;User Experience (UX);Prod...  0.603175     1   \n",
       "1189   Communication skills;Data Visualization skills...  0.507937     0   \n",
       "1190                                 Python, SQL, Oracle  0.587302     0   \n",
       "1192   Programming Language skills;Critical Thinking;...  0.380952     1   \n",
       "1194                                     2D/3D Animation  0.650794     1   \n",
       "\n",
       "                                         certc                             job  \n",
       "index                                                                           \n",
       "0                                    Linux,Git               Software engineer  \n",
       "1                    Microsoft certificationÂ       Computer Software Engineer  \n",
       "3                                           No           Relationships manager  \n",
       "4      Extreme Productivity (Blinkist Summary)  Plant Instrumentation Engineer  \n",
       "5                              C,C++,HTML,Java                 Network analyst  \n",
       "...                                        ...                             ...  \n",
       "1188                      \\nProduct Management              Product Specialist  \n",
       "1189                                        No                  DATA SCIENTIST  \n",
       "1190                  AWS cloud practitionerÂ                    Data Engineer  \n",
       "1192          Sql, Python,tableau,data science                 Hr Assistant II  \n",
       "1194                              3D Animation        VFX Production Assistant  \n",
       "\n",
       "[713 rows x 9 columns]"
      ]
     },
     "execution_count": 67,
     "metadata": {},
     "output_type": "execute_result"
    }
   ],
   "source": [
    "dfj"
   ]
  },
  {
   "cell_type": "code",
   "execution_count": 68,
   "id": "c333bd0f",
   "metadata": {},
   "outputs": [],
   "source": [
    "dfj=dfj.iloc[:,[1,2,3,4,8]]"
   ]
  },
  {
   "cell_type": "code",
   "execution_count": 69,
   "id": "5b8c27fe",
   "metadata": {},
   "outputs": [
    {
     "data": {
      "text/html": [
       "<div>\n",
       "<style scoped>\n",
       "    .dataframe tbody tr th:only-of-type {\n",
       "        vertical-align: middle;\n",
       "    }\n",
       "\n",
       "    .dataframe tbody tr th {\n",
       "        vertical-align: top;\n",
       "    }\n",
       "\n",
       "    .dataframe thead th {\n",
       "        text-align: right;\n",
       "    }\n",
       "</style>\n",
       "<table border=\"1\" class=\"dataframe\">\n",
       "  <thead>\n",
       "    <tr style=\"text-align: right;\">\n",
       "      <th></th>\n",
       "      <th>ug</th>\n",
       "      <th>ugsp</th>\n",
       "      <th>irt</th>\n",
       "      <th>ski</th>\n",
       "      <th>job</th>\n",
       "    </tr>\n",
       "    <tr>\n",
       "      <th>index</th>\n",
       "      <th></th>\n",
       "      <th></th>\n",
       "      <th></th>\n",
       "      <th></th>\n",
       "      <th></th>\n",
       "    </tr>\n",
       "  </thead>\n",
       "  <tbody>\n",
       "    <tr>\n",
       "      <th>0</th>\n",
       "      <td>B.Sc</td>\n",
       "      <td>Computer Applications</td>\n",
       "      <td>Cloud computing</td>\n",
       "      <td>Python;SQL;Java</td>\n",
       "      <td>Software engineer</td>\n",
       "    </tr>\n",
       "    <tr>\n",
       "      <th>1</th>\n",
       "      <td>B.E</td>\n",
       "      <td>Computer Science Engineering</td>\n",
       "      <td>Technology</td>\n",
       "      <td>Critical Thinking, Analytic Thinking, SQL, Pro...</td>\n",
       "      <td>Computer Software Engineer</td>\n",
       "    </tr>\n",
       "    <tr>\n",
       "      <th>3</th>\n",
       "      <td>BBA</td>\n",
       "      <td>Commerce</td>\n",
       "      <td>Sales/Marketing;Trading;Understand human behav...</td>\n",
       "      <td>Accounting Skills;Critical Thinking</td>\n",
       "      <td>Relationships manager</td>\n",
       "    </tr>\n",
       "    <tr>\n",
       "      <th>4</th>\n",
       "      <td>B.Tech</td>\n",
       "      <td>Instrumentation Engineering</td>\n",
       "      <td>Technology</td>\n",
       "      <td>\\nPLC Allen Bradley;PLC Ladder Logic;LabVIEW;B...</td>\n",
       "      <td>Plant Instrumentation Engineer</td>\n",
       "    </tr>\n",
       "    <tr>\n",
       "      <th>5</th>\n",
       "      <td>B.Tech</td>\n",
       "      <td>Computer Science Engineering</td>\n",
       "      <td>Technology</td>\n",
       "      <td>C,C++,HTML,Java</td>\n",
       "      <td>Network analyst</td>\n",
       "    </tr>\n",
       "    <tr>\n",
       "      <th>...</th>\n",
       "      <td>...</td>\n",
       "      <td>...</td>\n",
       "      <td>...</td>\n",
       "      <td>...</td>\n",
       "      <td>...</td>\n",
       "    </tr>\n",
       "    <tr>\n",
       "      <th>1188</th>\n",
       "      <td>B.Tech</td>\n",
       "      <td>Electrical and Electronics Engineering</td>\n",
       "      <td>Product Life cycle Management</td>\n",
       "      <td>\\nProduct Management;User Experience (UX);Prod...</td>\n",
       "      <td>Product Specialist</td>\n",
       "    </tr>\n",
       "    <tr>\n",
       "      <th>1189</th>\n",
       "      <td>B.Sc</td>\n",
       "      <td>computer science engineering</td>\n",
       "      <td>Technology</td>\n",
       "      <td>Communication skills;Data Visualization skills...</td>\n",
       "      <td>DATA SCIENTIST</td>\n",
       "    </tr>\n",
       "    <tr>\n",
       "      <th>1190</th>\n",
       "      <td>B.Tech</td>\n",
       "      <td>Electronics and Communication Engineering</td>\n",
       "      <td>Technology</td>\n",
       "      <td>Python, SQL, Oracle</td>\n",
       "      <td>Data Engineer</td>\n",
       "    </tr>\n",
       "    <tr>\n",
       "      <th>1192</th>\n",
       "      <td>B.Tech</td>\n",
       "      <td>Animation &amp; Visual Effects</td>\n",
       "      <td>Technology;Content Writing</td>\n",
       "      <td>Programming Language skills;Critical Thinking;...</td>\n",
       "      <td>Hr Assistant II</td>\n",
       "    </tr>\n",
       "    <tr>\n",
       "      <th>1194</th>\n",
       "      <td>B.Sc</td>\n",
       "      <td>Animation &amp; Visual Effects</td>\n",
       "      <td>Animation</td>\n",
       "      <td>2D/3D Animation</td>\n",
       "      <td>VFX Production Assistant</td>\n",
       "    </tr>\n",
       "  </tbody>\n",
       "</table>\n",
       "<p>713 rows × 5 columns</p>\n",
       "</div>"
      ],
      "text/plain": [
       "           ug                                       ugsp  \\\n",
       "index                                                      \n",
       "0        B.Sc                      Computer Applications   \n",
       "1         B.E               Computer Science Engineering   \n",
       "3         BBA                                   Commerce   \n",
       "4      B.Tech                Instrumentation Engineering   \n",
       "5      B.Tech               Computer Science Engineering   \n",
       "...       ...                                        ...   \n",
       "1188   B.Tech     Electrical and Electronics Engineering   \n",
       "1189     B.Sc               computer science engineering   \n",
       "1190   B.Tech  Electronics and Communication Engineering   \n",
       "1192   B.Tech                 Animation & Visual Effects   \n",
       "1194     B.Sc                 Animation & Visual Effects   \n",
       "\n",
       "                                                     irt  \\\n",
       "index                                                      \n",
       "0                                        Cloud computing   \n",
       "1                                             Technology   \n",
       "3      Sales/Marketing;Trading;Understand human behav...   \n",
       "4                                             Technology   \n",
       "5                                             Technology   \n",
       "...                                                  ...   \n",
       "1188                       Product Life cycle Management   \n",
       "1189                                          Technology   \n",
       "1190                                          Technology   \n",
       "1192                          Technology;Content Writing   \n",
       "1194                                           Animation   \n",
       "\n",
       "                                                     ski  \\\n",
       "index                                                      \n",
       "0                                        Python;SQL;Java   \n",
       "1      Critical Thinking, Analytic Thinking, SQL, Pro...   \n",
       "3                    Accounting Skills;Critical Thinking   \n",
       "4      \\nPLC Allen Bradley;PLC Ladder Logic;LabVIEW;B...   \n",
       "5                                        C,C++,HTML,Java   \n",
       "...                                                  ...   \n",
       "1188   \\nProduct Management;User Experience (UX);Prod...   \n",
       "1189   Communication skills;Data Visualization skills...   \n",
       "1190                                 Python, SQL, Oracle   \n",
       "1192   Programming Language skills;Critical Thinking;...   \n",
       "1194                                     2D/3D Animation   \n",
       "\n",
       "                                  job  \n",
       "index                                  \n",
       "0                   Software engineer  \n",
       "1          Computer Software Engineer  \n",
       "3               Relationships manager  \n",
       "4      Plant Instrumentation Engineer  \n",
       "5                     Network analyst  \n",
       "...                               ...  \n",
       "1188               Product Specialist  \n",
       "1189                   DATA SCIENTIST  \n",
       "1190                    Data Engineer  \n",
       "1192                  Hr Assistant II  \n",
       "1194         VFX Production Assistant  \n",
       "\n",
       "[713 rows x 5 columns]"
      ]
     },
     "execution_count": 69,
     "metadata": {},
     "output_type": "execute_result"
    }
   ],
   "source": [
    "dfj"
   ]
  },
  {
   "cell_type": "code",
   "execution_count": null,
   "id": "2701cd8f",
   "metadata": {},
   "outputs": [],
   "source": []
  },
  {
   "cell_type": "code",
   "execution_count": 70,
   "id": "0b6ce033",
   "metadata": {},
   "outputs": [],
   "source": [
    "dfm=df.loc[(df.wrk =='No') & (df['mas'] !=\"\" )].iloc[:,[1,2,3,4,10]]"
   ]
  },
  {
   "cell_type": "code",
   "execution_count": 71,
   "id": "034e470b",
   "metadata": {},
   "outputs": [
    {
     "data": {
      "text/plain": [
       "ug      0\n",
       "ugsp    0\n",
       "irt     0\n",
       "ski     0\n",
       "mas     0\n",
       "dtype: int64"
      ]
     },
     "execution_count": 71,
     "metadata": {},
     "output_type": "execute_result"
    }
   ],
   "source": [
    "dfm.isnull().sum()"
   ]
  },
  {
   "cell_type": "code",
   "execution_count": 72,
   "id": "055696f5",
   "metadata": {},
   "outputs": [],
   "source": [
    "dfm.to_csv(r'df_mast_data_set_for_imputy.csv')"
   ]
  },
  {
   "cell_type": "code",
   "execution_count": 73,
   "id": "6d326757",
   "metadata": {},
   "outputs": [],
   "source": [
    "dfm=pd.read_csv(r\"df_mast_data_set_for_imputy_to.csv\", encoding= 'unicode_escape')"
   ]
  },
  {
   "cell_type": "code",
   "execution_count": 74,
   "id": "d9ed20ef",
   "metadata": {},
   "outputs": [
    {
     "data": {
      "text/plain": [
       "Index(['Unnamed: 0', 'gr', 'ug', 'ugsp', 'irt', 'ski', 'cgp', 'cert', 'certc',\n",
       "       'mas'],\n",
       "      dtype='object')"
      ]
     },
     "execution_count": 74,
     "metadata": {},
     "output_type": "execute_result"
    }
   ],
   "source": [
    "dfm.columns"
   ]
  },
  {
   "cell_type": "code",
   "execution_count": 75,
   "id": "fe0a64af",
   "metadata": {},
   "outputs": [],
   "source": [
    "dfmcopy=dfm.iloc[:,[2,3,4,5,9]]"
   ]
  },
  {
   "cell_type": "code",
   "execution_count": 76,
   "id": "d16c4b80",
   "metadata": {},
   "outputs": [
    {
     "data": {
      "text/html": [
       "<div>\n",
       "<style scoped>\n",
       "    .dataframe tbody tr th:only-of-type {\n",
       "        vertical-align: middle;\n",
       "    }\n",
       "\n",
       "    .dataframe tbody tr th {\n",
       "        vertical-align: top;\n",
       "    }\n",
       "\n",
       "    .dataframe thead th {\n",
       "        text-align: right;\n",
       "    }\n",
       "</style>\n",
       "<table border=\"1\" class=\"dataframe\">\n",
       "  <thead>\n",
       "    <tr style=\"text-align: right;\">\n",
       "      <th></th>\n",
       "      <th>ug</th>\n",
       "      <th>ugsp</th>\n",
       "      <th>irt</th>\n",
       "      <th>ski</th>\n",
       "      <th>mas</th>\n",
       "    </tr>\n",
       "  </thead>\n",
       "  <tbody>\n",
       "    <tr>\n",
       "      <th>0</th>\n",
       "      <td>BMS</td>\n",
       "      <td>Commerce</td>\n",
       "      <td>Research, Sales/Marketing</td>\n",
       "      <td>Critical Thinking, Analytic Thinking, Communic...</td>\n",
       "      <td>mcom</td>\n",
       "    </tr>\n",
       "    <tr>\n",
       "      <th>1</th>\n",
       "      <td>B.Sc</td>\n",
       "      <td>Physics</td>\n",
       "      <td>Research;Teaching;Technology;Understand human ...</td>\n",
       "      <td>Active Listening;Critical Thinking;Gathering I...</td>\n",
       "      <td>Msc Physics</td>\n",
       "    </tr>\n",
       "    <tr>\n",
       "      <th>2</th>\n",
       "      <td>B.Com</td>\n",
       "      <td>Accountancy</td>\n",
       "      <td>Financial Analysis</td>\n",
       "      <td>Accounting Skills, Analytic Thinking, Cost Acc...</td>\n",
       "      <td>Pursuing Certified Management Accountant of Un...</td>\n",
       "    </tr>\n",
       "    <tr>\n",
       "      <th>3</th>\n",
       "      <td>BCA</td>\n",
       "      <td>Computer Applications</td>\n",
       "      <td>Technology</td>\n",
       "      <td>Communication skills;Writing skills;C++;Python...</td>\n",
       "      <td>Master of Computer Applications</td>\n",
       "    </tr>\n",
       "    <tr>\n",
       "      <th>4</th>\n",
       "      <td>B.Tech</td>\n",
       "      <td>Computer Science Engineering</td>\n",
       "      <td>Financial Analysis;Research;Data analytics;Dat...</td>\n",
       "      <td>Programming Language skills;Critical Thinking;...</td>\n",
       "      <td>Masters in Data science and computational inte...</td>\n",
       "    </tr>\n",
       "    <tr>\n",
       "      <th>...</th>\n",
       "      <td>...</td>\n",
       "      <td>...</td>\n",
       "      <td>...</td>\n",
       "      <td>...</td>\n",
       "      <td>...</td>\n",
       "    </tr>\n",
       "    <tr>\n",
       "      <th>209</th>\n",
       "      <td>B.Sc</td>\n",
       "      <td>Business Management</td>\n",
       "      <td>Technology</td>\n",
       "      <td>AI, Python, Java, SQL, Programming, Communicat...</td>\n",
       "      <td>Masters in Computer Applications</td>\n",
       "    </tr>\n",
       "    <tr>\n",
       "      <th>210</th>\n",
       "      <td>BBA</td>\n",
       "      <td>Commerce</td>\n",
       "      <td>Financial Analysis;Research;Sales/Marketing;Te...</td>\n",
       "      <td>Accounting Skills;Gathering Information;Financ...</td>\n",
       "      <td>MBA</td>\n",
       "    </tr>\n",
       "    <tr>\n",
       "      <th>211</th>\n",
       "      <td>B.Com</td>\n",
       "      <td>Computer Science Engineering</td>\n",
       "      <td>Financial Analysis</td>\n",
       "      <td>Accounting Skills, Active Listening, Critical ...</td>\n",
       "      <td>Masters in Business Administration</td>\n",
       "    </tr>\n",
       "    <tr>\n",
       "      <th>212</th>\n",
       "      <td>B.Sc</td>\n",
       "      <td>Computer Science Engineering</td>\n",
       "      <td>Technology</td>\n",
       "      <td>SQL, Problem Solving skills</td>\n",
       "      <td>Masters in Computer Science</td>\n",
       "    </tr>\n",
       "    <tr>\n",
       "      <th>213</th>\n",
       "      <td>BE</td>\n",
       "      <td>Computer Science</td>\n",
       "      <td>Financial Analysis, Technology</td>\n",
       "      <td>AI, Java, SQL, C++, R, Linux</td>\n",
       "      <td>Masters in Computer Applications</td>\n",
       "    </tr>\n",
       "  </tbody>\n",
       "</table>\n",
       "<p>214 rows × 5 columns</p>\n",
       "</div>"
      ],
      "text/plain": [
       "         ug                          ugsp  \\\n",
       "0       BMS                      Commerce   \n",
       "1      B.Sc                      Physics    \n",
       "2     B.Com                   Accountancy   \n",
       "3       BCA         Computer Applications   \n",
       "4    B.Tech  Computer Science Engineering   \n",
       "..      ...                           ...   \n",
       "209    B.Sc          Business Management    \n",
       "210     BBA                      Commerce   \n",
       "211   B.Com  Computer Science Engineering   \n",
       "212    B.Sc  Computer Science Engineering   \n",
       "213      BE              Computer Science   \n",
       "\n",
       "                                                   irt  \\\n",
       "0                            Research, Sales/Marketing   \n",
       "1    Research;Teaching;Technology;Understand human ...   \n",
       "2                                   Financial Analysis   \n",
       "3                                           Technology   \n",
       "4    Financial Analysis;Research;Data analytics;Dat...   \n",
       "..                                                 ...   \n",
       "209                                         Technology   \n",
       "210  Financial Analysis;Research;Sales/Marketing;Te...   \n",
       "211                                 Financial Analysis   \n",
       "212                                         Technology   \n",
       "213                     Financial Analysis, Technology   \n",
       "\n",
       "                                                   ski  \\\n",
       "0    Critical Thinking, Analytic Thinking, Communic...   \n",
       "1    Active Listening;Critical Thinking;Gathering I...   \n",
       "2    Accounting Skills, Analytic Thinking, Cost Acc...   \n",
       "3    Communication skills;Writing skills;C++;Python...   \n",
       "4    Programming Language skills;Critical Thinking;...   \n",
       "..                                                 ...   \n",
       "209  AI, Python, Java, SQL, Programming, Communicat...   \n",
       "210  Accounting Skills;Gathering Information;Financ...   \n",
       "211  Accounting Skills, Active Listening, Critical ...   \n",
       "212                        SQL, Problem Solving skills   \n",
       "213                       AI, Java, SQL, C++, R, Linux   \n",
       "\n",
       "                                                   mas  \n",
       "0                                                 mcom  \n",
       "1                                          Msc Physics  \n",
       "2    Pursuing Certified Management Accountant of Un...  \n",
       "3                      Master of Computer Applications  \n",
       "4    Masters in Data science and computational inte...  \n",
       "..                                                 ...  \n",
       "209                   Masters in Computer Applications  \n",
       "210                                                MBA  \n",
       "211                 Masters in Business Administration  \n",
       "212                        Masters in Computer Science  \n",
       "213                   Masters in Computer Applications  \n",
       "\n",
       "[214 rows x 5 columns]"
      ]
     },
     "execution_count": 76,
     "metadata": {},
     "output_type": "execute_result"
    }
   ],
   "source": [
    "dfmcopy"
   ]
  },
  {
   "cell_type": "code",
   "execution_count": 77,
   "id": "726b51e4",
   "metadata": {},
   "outputs": [],
   "source": [
    "dfm.rename(columns = {'Unnamed: 0':'index'}, inplace = True)\n"
   ]
  },
  {
   "cell_type": "code",
   "execution_count": 78,
   "id": "b59c77de",
   "metadata": {},
   "outputs": [],
   "source": [
    "dfm.set_index(['index'], inplace = True)\n"
   ]
  },
  {
   "cell_type": "code",
   "execution_count": 79,
   "id": "bb513e4f",
   "metadata": {},
   "outputs": [],
   "source": [
    "dfm=dfm.iloc[:,[1,2,3,4,8]]"
   ]
  },
  {
   "cell_type": "code",
   "execution_count": 80,
   "id": "a1d3fa2d",
   "metadata": {},
   "outputs": [
    {
     "data": {
      "text/html": [
       "<div>\n",
       "<style scoped>\n",
       "    .dataframe tbody tr th:only-of-type {\n",
       "        vertical-align: middle;\n",
       "    }\n",
       "\n",
       "    .dataframe tbody tr th {\n",
       "        vertical-align: top;\n",
       "    }\n",
       "\n",
       "    .dataframe thead th {\n",
       "        text-align: right;\n",
       "    }\n",
       "</style>\n",
       "<table border=\"1\" class=\"dataframe\">\n",
       "  <thead>\n",
       "    <tr style=\"text-align: right;\">\n",
       "      <th></th>\n",
       "      <th>ug</th>\n",
       "      <th>ugsp</th>\n",
       "      <th>irt</th>\n",
       "      <th>ski</th>\n",
       "      <th>mas</th>\n",
       "    </tr>\n",
       "    <tr>\n",
       "      <th>index</th>\n",
       "      <th></th>\n",
       "      <th></th>\n",
       "      <th></th>\n",
       "      <th></th>\n",
       "      <th></th>\n",
       "    </tr>\n",
       "  </thead>\n",
       "  <tbody>\n",
       "    <tr>\n",
       "      <th>6</th>\n",
       "      <td>BMS</td>\n",
       "      <td>Commerce</td>\n",
       "      <td>Research, Sales/Marketing</td>\n",
       "      <td>Critical Thinking, Analytic Thinking, Communic...</td>\n",
       "      <td>mcom</td>\n",
       "    </tr>\n",
       "    <tr>\n",
       "      <th>9</th>\n",
       "      <td>B.Sc</td>\n",
       "      <td>Physics</td>\n",
       "      <td>Research;Teaching;Technology;Understand human ...</td>\n",
       "      <td>Active Listening;Critical Thinking;Gathering I...</td>\n",
       "      <td>Msc Physics</td>\n",
       "    </tr>\n",
       "    <tr>\n",
       "      <th>10</th>\n",
       "      <td>B.Com</td>\n",
       "      <td>Accountancy</td>\n",
       "      <td>Financial Analysis</td>\n",
       "      <td>Accounting Skills, Analytic Thinking, Cost Acc...</td>\n",
       "      <td>Pursuing Certified Management Accountant of Un...</td>\n",
       "    </tr>\n",
       "    <tr>\n",
       "      <th>14</th>\n",
       "      <td>BCA</td>\n",
       "      <td>Computer Applications</td>\n",
       "      <td>Technology</td>\n",
       "      <td>Communication skills;Writing skills;C++;Python...</td>\n",
       "      <td>Master of Computer Applications</td>\n",
       "    </tr>\n",
       "    <tr>\n",
       "      <th>16</th>\n",
       "      <td>B.Tech</td>\n",
       "      <td>Computer Science Engineering</td>\n",
       "      <td>Financial Analysis;Research;Data analytics;Dat...</td>\n",
       "      <td>Programming Language skills;Critical Thinking;...</td>\n",
       "      <td>Masters in Data science and computational inte...</td>\n",
       "    </tr>\n",
       "    <tr>\n",
       "      <th>...</th>\n",
       "      <td>...</td>\n",
       "      <td>...</td>\n",
       "      <td>...</td>\n",
       "      <td>...</td>\n",
       "      <td>...</td>\n",
       "    </tr>\n",
       "    <tr>\n",
       "      <th>1179</th>\n",
       "      <td>B.Sc</td>\n",
       "      <td>Business Management</td>\n",
       "      <td>Technology</td>\n",
       "      <td>AI, Python, Java, SQL, Programming, Communicat...</td>\n",
       "      <td>Masters in Computer Applications</td>\n",
       "    </tr>\n",
       "    <tr>\n",
       "      <th>1185</th>\n",
       "      <td>BBA</td>\n",
       "      <td>Commerce</td>\n",
       "      <td>Financial Analysis;Research;Sales/Marketing;Te...</td>\n",
       "      <td>Accounting Skills;Gathering Information;Financ...</td>\n",
       "      <td>MBA</td>\n",
       "    </tr>\n",
       "    <tr>\n",
       "      <th>1187</th>\n",
       "      <td>B.Com</td>\n",
       "      <td>Computer Science Engineering</td>\n",
       "      <td>Financial Analysis</td>\n",
       "      <td>Accounting Skills, Active Listening, Critical ...</td>\n",
       "      <td>Masters in Business Administration</td>\n",
       "    </tr>\n",
       "    <tr>\n",
       "      <th>1191</th>\n",
       "      <td>B.Sc</td>\n",
       "      <td>Computer Science Engineering</td>\n",
       "      <td>Technology</td>\n",
       "      <td>SQL, Problem Solving skills</td>\n",
       "      <td>Masters in Computer Science</td>\n",
       "    </tr>\n",
       "    <tr>\n",
       "      <th>1193</th>\n",
       "      <td>BE</td>\n",
       "      <td>Computer Science</td>\n",
       "      <td>Financial Analysis, Technology</td>\n",
       "      <td>AI, Java, SQL, C++, R, Linux</td>\n",
       "      <td>Masters in Computer Applications</td>\n",
       "    </tr>\n",
       "  </tbody>\n",
       "</table>\n",
       "<p>214 rows × 5 columns</p>\n",
       "</div>"
      ],
      "text/plain": [
       "           ug                          ugsp  \\\n",
       "index                                         \n",
       "6         BMS                      Commerce   \n",
       "9        B.Sc                      Physics    \n",
       "10      B.Com                   Accountancy   \n",
       "14        BCA         Computer Applications   \n",
       "16     B.Tech  Computer Science Engineering   \n",
       "...       ...                           ...   \n",
       "1179     B.Sc          Business Management    \n",
       "1185      BBA                      Commerce   \n",
       "1187    B.Com  Computer Science Engineering   \n",
       "1191     B.Sc  Computer Science Engineering   \n",
       "1193       BE              Computer Science   \n",
       "\n",
       "                                                     irt  \\\n",
       "index                                                      \n",
       "6                              Research, Sales/Marketing   \n",
       "9      Research;Teaching;Technology;Understand human ...   \n",
       "10                                    Financial Analysis   \n",
       "14                                            Technology   \n",
       "16     Financial Analysis;Research;Data analytics;Dat...   \n",
       "...                                                  ...   \n",
       "1179                                          Technology   \n",
       "1185   Financial Analysis;Research;Sales/Marketing;Te...   \n",
       "1187                                  Financial Analysis   \n",
       "1191                                          Technology   \n",
       "1193                      Financial Analysis, Technology   \n",
       "\n",
       "                                                     ski  \\\n",
       "index                                                      \n",
       "6      Critical Thinking, Analytic Thinking, Communic...   \n",
       "9      Active Listening;Critical Thinking;Gathering I...   \n",
       "10     Accounting Skills, Analytic Thinking, Cost Acc...   \n",
       "14     Communication skills;Writing skills;C++;Python...   \n",
       "16     Programming Language skills;Critical Thinking;...   \n",
       "...                                                  ...   \n",
       "1179   AI, Python, Java, SQL, Programming, Communicat...   \n",
       "1185   Accounting Skills;Gathering Information;Financ...   \n",
       "1187   Accounting Skills, Active Listening, Critical ...   \n",
       "1191                         SQL, Problem Solving skills   \n",
       "1193                        AI, Java, SQL, C++, R, Linux   \n",
       "\n",
       "                                                     mas  \n",
       "index                                                     \n",
       "6                                                   mcom  \n",
       "9                                            Msc Physics  \n",
       "10     Pursuing Certified Management Accountant of Un...  \n",
       "14                       Master of Computer Applications  \n",
       "16     Masters in Data science and computational inte...  \n",
       "...                                                  ...  \n",
       "1179                    Masters in Computer Applications  \n",
       "1185                                                 MBA  \n",
       "1187                  Masters in Business Administration  \n",
       "1191                         Masters in Computer Science  \n",
       "1193                    Masters in Computer Applications  \n",
       "\n",
       "[214 rows x 5 columns]"
      ]
     },
     "execution_count": 80,
     "metadata": {},
     "output_type": "execute_result"
    }
   ],
   "source": [
    "dfm"
   ]
  },
  {
   "cell_type": "code",
   "execution_count": null,
   "id": "baef5633",
   "metadata": {},
   "outputs": [],
   "source": []
  },
  {
   "cell_type": "code",
   "execution_count": 81,
   "id": "4c75a016",
   "metadata": {},
   "outputs": [],
   "source": [
    "dfs=df.loc[(df.wrk =='No') & (df.mas ==\"\" )].iloc[:,[1,2,3,4]]"
   ]
  },
  {
   "cell_type": "code",
   "execution_count": 82,
   "id": "ed5b0f78",
   "metadata": {},
   "outputs": [
    {
     "data": {
      "text/html": [
       "<div>\n",
       "<style scoped>\n",
       "    .dataframe tbody tr th:only-of-type {\n",
       "        vertical-align: middle;\n",
       "    }\n",
       "\n",
       "    .dataframe tbody tr th {\n",
       "        vertical-align: top;\n",
       "    }\n",
       "\n",
       "    .dataframe thead th {\n",
       "        text-align: right;\n",
       "    }\n",
       "</style>\n",
       "<table border=\"1\" class=\"dataframe\">\n",
       "  <thead>\n",
       "    <tr style=\"text-align: right;\">\n",
       "      <th></th>\n",
       "      <th>ug</th>\n",
       "      <th>ugsp</th>\n",
       "      <th>irt</th>\n",
       "      <th>ski</th>\n",
       "    </tr>\n",
       "  </thead>\n",
       "  <tbody>\n",
       "    <tr>\n",
       "      <th>2</th>\n",
       "      <td>BA</td>\n",
       "      <td>Psychology</td>\n",
       "      <td>Understand human behaviour</td>\n",
       "      <td>People management;Communication skills</td>\n",
       "    </tr>\n",
       "    <tr>\n",
       "      <th>13</th>\n",
       "      <td>BE</td>\n",
       "      <td>Automation</td>\n",
       "      <td>Data analytics</td>\n",
       "      <td>Critical Thinking;Gathering Information;Presen...</td>\n",
       "    </tr>\n",
       "    <tr>\n",
       "      <th>21</th>\n",
       "      <td>B.Tech</td>\n",
       "      <td>Computer Science Engineering</td>\n",
       "      <td>Financial Analysis;Research;Sales/Marketing;Te...</td>\n",
       "      <td>Business Knowledge;Analytical Skills;Product k...</td>\n",
       "    </tr>\n",
       "    <tr>\n",
       "      <th>24</th>\n",
       "      <td>BCA</td>\n",
       "      <td>computer science Engineering</td>\n",
       "      <td>Technology;Service</td>\n",
       "      <td>Programming Language skills;Communication skil...</td>\n",
       "    </tr>\n",
       "    <tr>\n",
       "      <th>38</th>\n",
       "      <td>B.Tech</td>\n",
       "      <td>Computer science and business system</td>\n",
       "      <td>Financial Analysis;Technology;Web Designing;We...</td>\n",
       "      <td>Accounting Skills;Programming Language skills;...</td>\n",
       "    </tr>\n",
       "    <tr>\n",
       "      <th>...</th>\n",
       "      <td>...</td>\n",
       "      <td>...</td>\n",
       "      <td>...</td>\n",
       "      <td>...</td>\n",
       "    </tr>\n",
       "    <tr>\n",
       "      <th>1173</th>\n",
       "      <td>B.Tech</td>\n",
       "      <td>Civil Engineering</td>\n",
       "      <td>Data analytics</td>\n",
       "      <td>Analytical Skills;Data Visualization skills( P...</td>\n",
       "    </tr>\n",
       "    <tr>\n",
       "      <th>1175</th>\n",
       "      <td>B.Tech</td>\n",
       "      <td>Statistics,Mathematics,Computers</td>\n",
       "      <td>Financial Analysis;Govt. Job</td>\n",
       "      <td>Accounting Skills;Active Listening;Finance rel...</td>\n",
       "    </tr>\n",
       "    <tr>\n",
       "      <th>1180</th>\n",
       "      <td>B.Tech</td>\n",
       "      <td>Business Management</td>\n",
       "      <td>Financial Analysis;Technology</td>\n",
       "      <td>Programming Language skills;Communication skil...</td>\n",
       "    </tr>\n",
       "    <tr>\n",
       "      <th>1181</th>\n",
       "      <td>B.Com</td>\n",
       "      <td>Mechanical Engineering</td>\n",
       "      <td>Sales/Marketing;Sports Industry;Customer care</td>\n",
       "      <td>Business Knowledge</td>\n",
       "    </tr>\n",
       "    <tr>\n",
       "      <th>1182</th>\n",
       "      <td>B.Com</td>\n",
       "      <td>Computer Science Engineering</td>\n",
       "      <td>Sales/Marketing;Sports Industry;Customer care</td>\n",
       "      <td>Social Media Marketing</td>\n",
       "    </tr>\n",
       "  </tbody>\n",
       "</table>\n",
       "<p>268 rows × 4 columns</p>\n",
       "</div>"
      ],
      "text/plain": [
       "          ug                                  ugsp  \\\n",
       "2         BA                            Psychology   \n",
       "13        BE                            Automation   \n",
       "21    B.Tech          Computer Science Engineering   \n",
       "24       BCA          computer science Engineering   \n",
       "38    B.Tech  Computer science and business system   \n",
       "...      ...                                   ...   \n",
       "1173  B.Tech                     Civil Engineering   \n",
       "1175  B.Tech      Statistics,Mathematics,Computers   \n",
       "1180  B.Tech                  Business Management    \n",
       "1181   B.Com                Mechanical Engineering   \n",
       "1182   B.Com          Computer Science Engineering   \n",
       "\n",
       "                                                    irt  \\\n",
       "2                            Understand human behaviour   \n",
       "13                                       Data analytics   \n",
       "21    Financial Analysis;Research;Sales/Marketing;Te...   \n",
       "24                                   Technology;Service   \n",
       "38    Financial Analysis;Technology;Web Designing;We...   \n",
       "...                                                 ...   \n",
       "1173                                     Data analytics   \n",
       "1175                       Financial Analysis;Govt. Job   \n",
       "1180                      Financial Analysis;Technology   \n",
       "1181      Sales/Marketing;Sports Industry;Customer care   \n",
       "1182      Sales/Marketing;Sports Industry;Customer care   \n",
       "\n",
       "                                                    ski  \n",
       "2                People management;Communication skills  \n",
       "13    Critical Thinking;Gathering Information;Presen...  \n",
       "21    Business Knowledge;Analytical Skills;Product k...  \n",
       "24    Programming Language skills;Communication skil...  \n",
       "38    Accounting Skills;Programming Language skills;...  \n",
       "...                                                 ...  \n",
       "1173  Analytical Skills;Data Visualization skills( P...  \n",
       "1175  Accounting Skills;Active Listening;Finance rel...  \n",
       "1180  Programming Language skills;Communication skil...  \n",
       "1181                                 Business Knowledge  \n",
       "1182                             Social Media Marketing  \n",
       "\n",
       "[268 rows x 4 columns]"
      ]
     },
     "execution_count": 82,
     "metadata": {},
     "output_type": "execute_result"
    }
   ],
   "source": [
    "dfs"
   ]
  },
  {
   "cell_type": "markdown",
   "id": "de27fa81",
   "metadata": {},
   "source": [
    "# ***************************##########################################################################################################################################################\n"
   ]
  },
  {
   "cell_type": "markdown",
   "id": "bd7b24c6",
   "metadata": {},
   "source": [
    "# **********######################################################################################################################################################################"
   ]
  },
  {
   "cell_type": "markdown",
   "id": "235285b3",
   "metadata": {},
   "source": [
    "# Model Building"
   ]
  },
  {
   "cell_type": "markdown",
   "id": "d00d0537",
   "metadata": {},
   "source": [
    "# The recommendation for new student Sigmoid_Similarity\n"
   ]
  },
  {
   "cell_type": "code",
   "execution_count": 83,
   "id": "ea45ff16",
   "metadata": {},
   "outputs": [],
   "source": [
    "d = {}"
   ]
  },
  {
   "cell_type": "code",
   "execution_count": 84,
   "id": "a2f71946",
   "metadata": {},
   "outputs": [
    {
     "name": "stdout",
     "output_type": "stream",
     "text": [
      "enter your details:  \n",
      "Enter the name:  Amer\n",
      "Enter the UG:  btech\n",
      "Enter the UG specialization:  Mechanical Engeneering\n",
      "Enter the interests:  python\n",
      "Enter the skills :  python\n"
     ]
    }
   ],
   "source": [
    "# iterating the columns\n",
    "#for col in df.columns:\n",
    "print(\"enter your details:  \")\n",
    "nm=input(\"Enter the name:  \")\n",
    "#d['gr']=input(\"Enter the gender:  \")\n",
    "d['ug']=input(\"Enter the UG:  \")\n",
    "d['ugsp']=input(\"Enter the UG specialization:  \")\n",
    "d['irt']=input(\"Enter the interests:  \")\n",
    "d['ski']=input(\"Enter the skills :  \")\n",
    "#d['cgp']=float(input(\"Enter the cgpa/percentage:  \"))\n",
    "#d['cert']=input(\"Did you do any certification courses additionally? :  \")\n",
    "#d['certc']=input(\"If yes, please specify your certificate course title:  \")\n",
    "d['wrk']='No'\n",
    "d['job']=\" \"\n",
    "d['mas']=\" \"  \n",
    "    "
   ]
  },
  {
   "cell_type": "code",
   "execution_count": 85,
   "id": "4a8aff8f",
   "metadata": {},
   "outputs": [
    {
     "name": "stdout",
     "output_type": "stream",
     "text": [
      "Would you be interested in a job or higher education?(if job plz input 'j' or if higher education, plz input 'h'):j\n",
      "Enter the No.of Jobs to be recommended:  10\n"
     ]
    }
   ],
   "source": [
    "which=str(input(\"Would you be interested in a job or higher education?(if job plz input 'j' or if higher education, plz input 'h'):\"))\n",
    "if str(which)=='j' or str(which)=='J':\n",
    "    topN=int(input(\"Enter the No.of Jobs to be recommended:  \"))\n",
    "else:\n",
    "    topN=int(input(\"Enter the No.of Higher studies to be recommended:  \"))"
   ]
  },
  {
   "cell_type": "code",
   "execution_count": 86,
   "id": "3d1f09ed",
   "metadata": {},
   "outputs": [
    {
     "data": {
      "text/plain": [
       "{'ug': 'btech',\n",
       " 'ugsp': 'Mechanical Engeneering',\n",
       " 'irt': 'python',\n",
       " 'ski': 'python',\n",
       " 'wrk': 'No',\n",
       " 'job': ' ',\n",
       " 'mas': ' '}"
      ]
     },
     "execution_count": 86,
     "metadata": {},
     "output_type": "execute_result"
    }
   ],
   "source": [
    "d"
   ]
  },
  {
   "cell_type": "code",
   "execution_count": 87,
   "id": "44feec04",
   "metadata": {},
   "outputs": [
    {
     "name": "stderr",
     "output_type": "stream",
     "text": [
      "C:\\Users\\mma\\AppData\\Local\\Temp\\ipykernel_10412\\2991027689.py:1: FutureWarning: The frame.append method is deprecated and will be removed from pandas in a future version. Use pandas.concat instead.\n",
      "  df3 = df3.append(d,ignore_index = True)\n"
     ]
    }
   ],
   "source": [
    "df3 = df3.append(d,ignore_index = True)"
   ]
  },
  {
   "cell_type": "code",
   "execution_count": 88,
   "id": "097168b6",
   "metadata": {},
   "outputs": [
    {
     "data": {
      "text/html": [
       "<div>\n",
       "<style scoped>\n",
       "    .dataframe tbody tr th:only-of-type {\n",
       "        vertical-align: middle;\n",
       "    }\n",
       "\n",
       "    .dataframe tbody tr th {\n",
       "        vertical-align: top;\n",
       "    }\n",
       "\n",
       "    .dataframe thead th {\n",
       "        text-align: right;\n",
       "    }\n",
       "</style>\n",
       "<table border=\"1\" class=\"dataframe\">\n",
       "  <thead>\n",
       "    <tr style=\"text-align: right;\">\n",
       "      <th></th>\n",
       "      <th>ug</th>\n",
       "      <th>ugsp</th>\n",
       "      <th>irt</th>\n",
       "      <th>ski</th>\n",
       "      <th>job</th>\n",
       "      <th>mas</th>\n",
       "      <th>wrk</th>\n",
       "    </tr>\n",
       "  </thead>\n",
       "  <tbody>\n",
       "    <tr>\n",
       "      <th>1193</th>\n",
       "      <td>BE</td>\n",
       "      <td>Computer Science</td>\n",
       "      <td>Financial Analysis, Technology</td>\n",
       "      <td>AI, Java, SQL, C++, R, Linux</td>\n",
       "      <td>Student (Unemployed)</td>\n",
       "      <td>Masters in Computer Applications</td>\n",
       "      <td>NaN</td>\n",
       "    </tr>\n",
       "    <tr>\n",
       "      <th>1194</th>\n",
       "      <td>B.Sc</td>\n",
       "      <td>Animation &amp; Visual Effects</td>\n",
       "      <td>Animation</td>\n",
       "      <td>2D/3D Animation</td>\n",
       "      <td>VFX Production Assistant</td>\n",
       "      <td></td>\n",
       "      <td>NaN</td>\n",
       "    </tr>\n",
       "    <tr>\n",
       "      <th>1195</th>\n",
       "      <td>btech</td>\n",
       "      <td>Mechanical Engeneering</td>\n",
       "      <td>python</td>\n",
       "      <td>python</td>\n",
       "      <td></td>\n",
       "      <td></td>\n",
       "      <td>No</td>\n",
       "    </tr>\n",
       "  </tbody>\n",
       "</table>\n",
       "</div>"
      ],
      "text/plain": [
       "         ug                        ugsp                             irt  \\\n",
       "1193     BE            Computer Science  Financial Analysis, Technology   \n",
       "1194   B.Sc  Animation & Visual Effects                       Animation   \n",
       "1195  btech      Mechanical Engeneering                          python   \n",
       "\n",
       "                               ski                       job  \\\n",
       "1193  AI, Java, SQL, C++, R, Linux      Student (Unemployed)   \n",
       "1194               2D/3D Animation  VFX Production Assistant   \n",
       "1195                        python                             \n",
       "\n",
       "                                   mas  wrk  \n",
       "1193  Masters in Computer Applications  NaN  \n",
       "1194                                    NaN  \n",
       "1195                                     No  "
      ]
     },
     "execution_count": 88,
     "metadata": {},
     "output_type": "execute_result"
    }
   ],
   "source": [
    "df3.tail(3)"
   ]
  },
  {
   "cell_type": "code",
   "execution_count": 89,
   "id": "da0bf18d",
   "metadata": {},
   "outputs": [
    {
     "data": {
      "text/html": [
       "<div>\n",
       "<style scoped>\n",
       "    .dataframe tbody tr th:only-of-type {\n",
       "        vertical-align: middle;\n",
       "    }\n",
       "\n",
       "    .dataframe tbody tr th {\n",
       "        vertical-align: top;\n",
       "    }\n",
       "\n",
       "    .dataframe thead th {\n",
       "        text-align: right;\n",
       "    }\n",
       "</style>\n",
       "<table border=\"1\" class=\"dataframe\">\n",
       "  <thead>\n",
       "    <tr style=\"text-align: right;\">\n",
       "      <th></th>\n",
       "      <th>ug</th>\n",
       "      <th>ugsp</th>\n",
       "      <th>irt</th>\n",
       "      <th>ski</th>\n",
       "      <th>job</th>\n",
       "      <th>mas</th>\n",
       "      <th>wrk</th>\n",
       "    </tr>\n",
       "  </thead>\n",
       "  <tbody>\n",
       "    <tr>\n",
       "      <th>0</th>\n",
       "      <td>B.Sc</td>\n",
       "      <td>Computer Applications</td>\n",
       "      <td>Cloud computing</td>\n",
       "      <td>Python;SQL;Java</td>\n",
       "      <td>Software</td>\n",
       "      <td>MCA</td>\n",
       "      <td>NaN</td>\n",
       "    </tr>\n",
       "    <tr>\n",
       "      <th>1</th>\n",
       "      <td>B.E</td>\n",
       "      <td>Computer Science Engineering</td>\n",
       "      <td>Technology</td>\n",
       "      <td>Critical Thinking, Analytic Thinking, SQL, Pro...</td>\n",
       "      <td>Computer Software Engineer</td>\n",
       "      <td></td>\n",
       "      <td>NaN</td>\n",
       "    </tr>\n",
       "    <tr>\n",
       "      <th>2</th>\n",
       "      <td>BA</td>\n",
       "      <td>Psychology</td>\n",
       "      <td>Understand human behaviour</td>\n",
       "      <td>People management;Communication skills</td>\n",
       "      <td></td>\n",
       "      <td></td>\n",
       "      <td>NaN</td>\n",
       "    </tr>\n",
       "    <tr>\n",
       "      <th>3</th>\n",
       "      <td>BBA</td>\n",
       "      <td>Commerce</td>\n",
       "      <td>Sales/Marketing;Trading;Understand human behav...</td>\n",
       "      <td>Accounting Skills;Critical Thinking</td>\n",
       "      <td>Relationships manager</td>\n",
       "      <td></td>\n",
       "      <td>NaN</td>\n",
       "    </tr>\n",
       "    <tr>\n",
       "      <th>4</th>\n",
       "      <td>B.Tech</td>\n",
       "      <td>Instrumentation Engineering</td>\n",
       "      <td>Technology</td>\n",
       "      <td>\\nPLC Allen Bradley;PLC Ladder Logic;LabVIEW;B...</td>\n",
       "      <td>Plant Instrumentation Engineer</td>\n",
       "      <td></td>\n",
       "      <td>NaN</td>\n",
       "    </tr>\n",
       "  </tbody>\n",
       "</table>\n",
       "</div>"
      ],
      "text/plain": [
       "       ug                          ugsp  \\\n",
       "0    B.Sc         Computer Applications   \n",
       "1     B.E  Computer Science Engineering   \n",
       "2      BA                    Psychology   \n",
       "3     BBA                      Commerce   \n",
       "4  B.Tech   Instrumentation Engineering   \n",
       "\n",
       "                                                 irt  \\\n",
       "0                                    Cloud computing   \n",
       "1                                         Technology   \n",
       "2                         Understand human behaviour   \n",
       "3  Sales/Marketing;Trading;Understand human behav...   \n",
       "4                                         Technology   \n",
       "\n",
       "                                                 ski  \\\n",
       "0                                    Python;SQL;Java   \n",
       "1  Critical Thinking, Analytic Thinking, SQL, Pro...   \n",
       "2             People management;Communication skills   \n",
       "3                Accounting Skills;Critical Thinking   \n",
       "4  \\nPLC Allen Bradley;PLC Ladder Logic;LabVIEW;B...   \n",
       "\n",
       "                              job  mas  wrk  \n",
       "0                        Software  MCA  NaN  \n",
       "1      Computer Software Engineer       NaN  \n",
       "2                                       NaN  \n",
       "3           Relationships manager       NaN  \n",
       "4  Plant Instrumentation Engineer       NaN  "
      ]
     },
     "execution_count": 89,
     "metadata": {},
     "output_type": "execute_result"
    }
   ],
   "source": [
    "df3.head()"
   ]
  },
  {
   "cell_type": "code",
   "execution_count": null,
   "id": "4a5df242",
   "metadata": {},
   "outputs": [],
   "source": [
    "dfs=df3.iloc[[-1],[0,1,2,3]]"
   ]
  },
  {
   "cell_type": "code",
   "execution_count": null,
   "id": "1c4d0e63",
   "metadata": {},
   "outputs": [],
   "source": [
    "dfs"
   ]
  },
  {
   "cell_type": "code",
   "execution_count": null,
   "id": "2f8119f1",
   "metadata": {},
   "outputs": [],
   "source": [
    "#df_gr = pd.get_dummies(df.gr,drop_first=True)"
   ]
  },
  {
   "cell_type": "code",
   "execution_count": null,
   "id": "c9932465",
   "metadata": {},
   "outputs": [],
   "source": [
    "df3['factors'] = df3[['ug', 'ugsp', 'irt', 'ski']].agg('-'.join, axis=1)"
   ]
  },
  {
   "cell_type": "code",
   "execution_count": null,
   "id": "9176d147",
   "metadata": {},
   "outputs": [],
   "source": [
    "# Removing punctuations\n",
    "df_f=df3.factors\n",
    "df_f.replace(\"[^a-zA-Z]\",\" \",regex=True, inplace=True)"
   ]
  },
  {
   "cell_type": "code",
   "execution_count": null,
   "id": "219169d3",
   "metadata": {},
   "outputs": [],
   "source": [
    "df_f = df_f.to_frame()"
   ]
  },
  {
   "cell_type": "code",
   "execution_count": null,
   "id": "73d24588",
   "metadata": {},
   "outputs": [],
   "source": [
    "df_f.columns=['factors']"
   ]
  },
  {
   "cell_type": "code",
   "execution_count": null,
   "id": "96cc450f",
   "metadata": {},
   "outputs": [],
   "source": [
    "from sklearn.feature_extraction.text import TfidfVectorizer #term frequencey- inverse document frequncy is a numerical statistic that is intended to reflect how important a word is to document in a collecion or corpus"
   ]
  },
  {
   "cell_type": "code",
   "execution_count": null,
   "id": "ec20d52b",
   "metadata": {},
   "outputs": [],
   "source": [
    "df_f[\"factors\"].isnull().sum() \n"
   ]
  },
  {
   "cell_type": "code",
   "execution_count": null,
   "id": "86810aa8",
   "metadata": {},
   "outputs": [],
   "source": [
    "tfidf = TfidfVectorizer(stop_words = \"english\")    # taking stop words from tfid vectorizer "
   ]
  },
  {
   "cell_type": "code",
   "execution_count": null,
   "id": "9c573821",
   "metadata": {},
   "outputs": [],
   "source": [
    "tfidf_matrix = tfidf.fit_transform(df_f[\"factors\"])   #Transform a count matrix to a normalized tf or tf-idf representation\n"
   ]
  },
  {
   "cell_type": "code",
   "execution_count": null,
   "id": "1699872d",
   "metadata": {},
   "outputs": [],
   "source": [
    "tfidf_matrix_df=pd.DataFrame.sparse.from_spmatrix(tfidf_matrix)"
   ]
  },
  {
   "cell_type": "code",
   "execution_count": null,
   "id": "92a3b8c8",
   "metadata": {},
   "outputs": [],
   "source": [
    "df_final=tfidf_matrix_df"
   ]
  },
  {
   "cell_type": "code",
   "execution_count": null,
   "id": "b0e4d7c6",
   "metadata": {},
   "outputs": [],
   "source": [
    "df_final.index"
   ]
  },
  {
   "cell_type": "code",
   "execution_count": null,
   "id": "24950969",
   "metadata": {},
   "outputs": [],
   "source": [
    "df_final.shape"
   ]
  },
  {
   "cell_type": "code",
   "execution_count": null,
   "id": "68ea54fd",
   "metadata": {},
   "outputs": [],
   "source": [
    "lst_j=[]\n",
    "for i in df_final.index:\n",
    "    for j in dfj.index:\n",
    "        if i==j:\n",
    "            lst_j.append(j)\n",
    "        else:\n",
    "            continue   "
   ]
  },
  {
   "cell_type": "code",
   "execution_count": null,
   "id": "ca71f38b",
   "metadata": {},
   "outputs": [],
   "source": [
    "lst_m=[]\n",
    "for i in df_final.index:\n",
    "    for j in dfm.index:\n",
    "        if i==j:\n",
    "            lst_m.append(j)\n",
    "        else:\n",
    "            continue "
   ]
  },
  {
   "cell_type": "code",
   "execution_count": null,
   "id": "3ece8524",
   "metadata": {},
   "outputs": [],
   "source": [
    "lst_s=[]\n",
    "for i in df_final.index:\n",
    "    for j in dfs.index:\n",
    "        if i==j:\n",
    "            lst_s.append(j)\n",
    "        else:\n",
    "            continue  "
   ]
  },
  {
   "cell_type": "code",
   "execution_count": null,
   "id": "9b75ddeb",
   "metadata": {},
   "outputs": [],
   "source": [
    "df_final_j=df_final.loc[lst_j,:]"
   ]
  },
  {
   "cell_type": "code",
   "execution_count": null,
   "id": "d9e971da",
   "metadata": {},
   "outputs": [],
   "source": [
    "df_final_j"
   ]
  },
  {
   "cell_type": "code",
   "execution_count": null,
   "id": "e17c772d",
   "metadata": {},
   "outputs": [],
   "source": [
    "df_final_m=df_final.loc[lst_m,:]"
   ]
  },
  {
   "cell_type": "code",
   "execution_count": null,
   "id": "f86d2e0a",
   "metadata": {},
   "outputs": [],
   "source": [
    "df_final_m"
   ]
  },
  {
   "cell_type": "code",
   "execution_count": null,
   "id": "4165882a",
   "metadata": {},
   "outputs": [],
   "source": [
    "df_final_s=df_final.loc[lst_s,:]"
   ]
  },
  {
   "cell_type": "code",
   "execution_count": null,
   "id": "c93217b5",
   "metadata": {},
   "outputs": [],
   "source": [
    "df_final_s.iloc[[-1],:]"
   ]
  },
  {
   "cell_type": "code",
   "execution_count": null,
   "id": "8fc9cbc9",
   "metadata": {},
   "outputs": [],
   "source": [
    "if str(which)=='j' or str(which)=='J':\n",
    "    y=df_final_j\n",
    "else:\n",
    "    y=df_final_m\n",
    "    "
   ]
  },
  {
   "cell_type": "code",
   "execution_count": null,
   "id": "07ee74cc",
   "metadata": {},
   "outputs": [],
   "source": [
    "y"
   ]
  },
  {
   "cell_type": "code",
   "execution_count": null,
   "id": "382e0038",
   "metadata": {},
   "outputs": [],
   "source": []
  },
  {
   "cell_type": "code",
   "execution_count": null,
   "id": "a607f4ad",
   "metadata": {},
   "outputs": [],
   "source": [
    "from sklearn.metrics.pairwise import sigmoid_kernel\n",
    "#sigmoid computation\n",
    "sig_sim_matrix=sigmoid_kernel(df_final_s.iloc[[-1],:],y)"
   ]
  },
  {
   "cell_type": "code",
   "execution_count": null,
   "id": "eda73af1",
   "metadata": {},
   "outputs": [],
   "source": [
    "type(sig_sim_matrix)"
   ]
  },
  {
   "cell_type": "code",
   "execution_count": null,
   "id": "9b3a4614",
   "metadata": {},
   "outputs": [],
   "source": [
    "df_sig_sim_matrix = pd.DataFrame(sig_sim_matrix)"
   ]
  },
  {
   "cell_type": "code",
   "execution_count": null,
   "id": "bb703dc0",
   "metadata": {},
   "outputs": [],
   "source": [
    "sig_scores = list(enumerate(sig_sim_matrix[0]))\n",
    "sig_scores"
   ]
  },
  {
   "cell_type": "code",
   "execution_count": null,
   "id": "23f26e63",
   "metadata": {},
   "outputs": [],
   "source": [
    "if which=='j' or which=='J':     \n",
    "    # Sorting the sig_similarity scores based on scores \n",
    "    sig_scores = sorted(sig_scores, key=lambda x:x[1], reverse = True)\n",
    "\n",
    "    # Get the scores of top N most similar job \n",
    "    #sig_scores_N = sig_scores[0: topN+1]\n",
    "\n",
    "    # Getting the job index \n",
    "    s_idx  =  [i[0] for i in sig_scores]\n",
    "    s_scores =  [i[1] for i in sig_scores]\n",
    "\n",
    "    # Similar job and scores\n",
    "    s_similar_show = pd.DataFrame(columns=[\"job\", \"Score\"])\n",
    "    s_similar_show[\"job\"] = dfjcopy.loc[s_idx, \"job\"]\n",
    "    s_similar_show[\"Score\"] = s_scores\n",
    "    s_similar_show=s_similar_show.loc[(s_similar_show.job !='')]\n",
    "    s_similar_show=s_similar_show.drop_duplicates(subset='job', keep=\"first\")\n",
    "    s_similar_show_N=s_similar_show.iloc[0:topN+1,:]\n",
    "    s_similar_show_N.reset_index(inplace = True)  \n",
    "\n",
    "    # s_similar_show.drop([\"index\"], axis=1, inplace=True)\n",
    "    print (s_similar_show_N)\n",
    "    #return (s_similar_show)\n",
    "\n",
    "else:\n",
    "    # Sorting the sig_similarity scores based on scores \n",
    "    sig_scores = sorted(sig_scores, key=lambda x:x[1], reverse = True)\n",
    "\n",
    "    # Get the scores of top N most similar job \n",
    "    #sig_scores_N = sig_scores[0: topN+1]\n",
    "\n",
    "    # Getting the masters index \n",
    "    s_idx  =  [i[0] for i in sig_scores]\n",
    "    s_scores =  [i[1] for i in sig_scores]\n",
    "\n",
    "    # Similar masters and scores\n",
    "    s_similar_show = pd.DataFrame(columns=[\"mas\", \"Score\"])\n",
    "    s_similar_show[\"mas\"] = dfmcopy.loc[s_idx, \"mas\"]\n",
    "    s_similar_show[\"Score\"] = s_scores\n",
    "    s_similar_show=s_similar_show.loc[(s_similar_show.mas !='')]\n",
    "    s_similar_show=s_similar_show.drop_duplicates(subset='mas', keep=\"first\")\n",
    "    s_similar_show_N=s_similar_show.iloc[0:topN+1,:]\n",
    "    s_similar_show_N.reset_index(inplace = True)  \n",
    "\n",
    "    # s_similar_show.drop([\"index\"], axis=1, inplace=True)\n",
    "    print (s_similar_show_N)\n",
    "    #return (s_similar_show)"
   ]
  },
  {
   "cell_type": "code",
   "execution_count": null,
   "id": "b16baa02",
   "metadata": {},
   "outputs": [],
   "source": []
  },
  {
   "cell_type": "code",
   "execution_count": null,
   "id": "4ad52784",
   "metadata": {},
   "outputs": [],
   "source": []
  }
 ],
 "metadata": {
  "kernelspec": {
   "display_name": "Python 3 (ipykernel)",
   "language": "python",
   "name": "python3"
  },
  "language_info": {
   "codemirror_mode": {
    "name": "ipython",
    "version": 3
   },
   "file_extension": ".py",
   "mimetype": "text/x-python",
   "name": "python",
   "nbconvert_exporter": "python",
   "pygments_lexer": "ipython3",
   "version": "3.9.13"
  }
 },
 "nbformat": 4,
 "nbformat_minor": 5
}
